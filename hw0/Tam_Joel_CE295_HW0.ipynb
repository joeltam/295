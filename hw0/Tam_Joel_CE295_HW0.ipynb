{
  "cells": [
    {
      "cell_type": "markdown",
      "metadata": {
        "id": "IWLlRgbvKKGy"
      },
      "source": [
        "# CE295 Assignment 0: Python Review\n",
        "\n",
        "**CE 295: Data Science for Energy** (S25)  \n",
        "University of California, Berkeley.  \n",
        "Prof. Daniel Arnold & GSI Yi Ju\n",
        "\n",
        "<span style=\"color: #bb0000\"><b>due: Jan. 31 at 11:59pm PT</b></span>\n",
        "\n",
        "This review allows you to practice basic Python programming. It is **optional** and **NOT graded**, but we encourage you to work through it to familiarize yourself with the submission process and **help us identify any potential issues** 😉.\n",
        "\n",
        "**Tip:** (on Colab) the outline icon (\"Table of contents\", the first icon on the left side bar) helps you quickly navigate through sections and subsections.\n",
        "\n",
        "<img src=\"https://yi-ju.me/host_files/ce295-sp25/hw0/bootstrapAlerts.png\" alt=\"Alerts\" width=700>"
      ]
    },
    {
      "cell_type": "markdown",
      "metadata": {
        "id": "IIYTv6brKKGz"
      },
      "source": [
        "## Setup\n"
      ]
    },
    {
      "cell_type": "code",
      "execution_count": 7,
      "metadata": {
        "id": "_KqdPCF7KKG0",
        "colab": {
          "base_uri": "https://localhost:8080/",
          "height": 1000
        },
        "collapsed": true,
        "outputId": "543ef4b1-aac0-400a-d3c8-9530da65caef"
      },
      "outputs": [
        {
          "output_type": "stream",
          "name": "stdout",
          "text": [
            "Requirement already satisfied: gdown in /usr/local/lib/python3.11/dist-packages (5.2.0)\n",
            "Requirement already satisfied: beautifulsoup4 in /usr/local/lib/python3.11/dist-packages (from gdown) (4.12.3)\n",
            "Requirement already satisfied: filelock in /usr/local/lib/python3.11/dist-packages (from gdown) (3.17.0)\n",
            "Requirement already satisfied: requests[socks] in /usr/local/lib/python3.11/dist-packages (from gdown) (2.32.3)\n",
            "Requirement already satisfied: tqdm in /usr/local/lib/python3.11/dist-packages (from gdown) (4.67.1)\n",
            "Requirement already satisfied: soupsieve>1.2 in /usr/local/lib/python3.11/dist-packages (from beautifulsoup4->gdown) (2.6)\n",
            "Requirement already satisfied: charset-normalizer<4,>=2 in /usr/local/lib/python3.11/dist-packages (from requests[socks]->gdown) (3.4.1)\n",
            "Requirement already satisfied: idna<4,>=2.5 in /usr/local/lib/python3.11/dist-packages (from requests[socks]->gdown) (3.10)\n",
            "Requirement already satisfied: urllib3<3,>=1.21.1 in /usr/local/lib/python3.11/dist-packages (from requests[socks]->gdown) (2.3.0)\n",
            "Requirement already satisfied: certifi>=2017.4.17 in /usr/local/lib/python3.11/dist-packages (from requests[socks]->gdown) (2024.12.14)\n",
            "Requirement already satisfied: PySocks!=1.5.7,>=1.5.6 in /usr/local/lib/python3.11/dist-packages (from requests[socks]->gdown) (1.7.1)\n",
            "Downloading...\n",
            "From: https://drive.google.com/uc?id=1byudHwT6yOh50Iic2LZ4y7tdlu4Hj5sR\n",
            "To: /content/HW0_util.zip\n",
            "100% 10.3k/10.3k [00:00<00:00, 23.9MB/s]\n",
            "Archive:  HW0_util.zip\n",
            "   creating: tests/\n",
            "  inflating: tests/q1a.py            \n",
            "  inflating: tests/q1b.py            \n",
            "  inflating: tests/q1c.py            \n",
            "  inflating: tests/q3.py             \n",
            "  inflating: tests/q4a.py            \n",
            "  inflating: tests/q4b.py            \n",
            "  inflating: tests/q4c.py            \n",
            "  inflating: RLC.png                 \n",
            "Collecting otter-grader\n",
            "  Downloading otter_grader-6.0.5-py3-none-any.whl.metadata (3.9 kB)\n",
            "Requirement already satisfied: click<9.0.0,>=8.1.7 in /usr/local/lib/python3.11/dist-packages (from otter-grader) (8.1.8)\n",
            "Collecting dill>=0.3.0 (from otter-grader)\n",
            "  Downloading dill-0.3.9-py3-none-any.whl.metadata (10 kB)\n",
            "Collecting fica>=0.4.1 (from otter-grader)\n",
            "  Downloading fica-0.4.1-py3-none-any.whl.metadata (2.0 kB)\n",
            "Collecting ipylab<2.0.0,>=1.0.0 (from otter-grader)\n",
            "  Downloading ipylab-1.0.0-py3-none-any.whl.metadata (6.7 kB)\n",
            "Requirement already satisfied: ipython in /usr/local/lib/python3.11/dist-packages (from otter-grader) (7.34.0)\n",
            "Collecting ipywidgets<9.0.0,>=8.1.5 (from otter-grader)\n",
            "  Downloading ipywidgets-8.1.5-py3-none-any.whl.metadata (2.3 kB)\n",
            "Requirement already satisfied: jinja2<4.0,>=3.1 in /usr/local/lib/python3.11/dist-packages (from otter-grader) (3.1.5)\n",
            "Collecting jupytext<2.0.0,>=1.16.4 (from otter-grader)\n",
            "  Downloading jupytext-1.16.6-py3-none-any.whl.metadata (13 kB)\n",
            "Requirement already satisfied: nbconvert>=6.0.0 in /usr/local/lib/python3.11/dist-packages (from nbconvert[webpdf]>=6.0.0; sys_platform != \"emscripten\" and sys_platform != \"wasi\"->otter-grader) (7.16.5)\n",
            "Requirement already satisfied: nbformat>=5.0.0 in /usr/local/lib/python3.11/dist-packages (from otter-grader) (5.10.4)\n",
            "Requirement already satisfied: pandas>=2.0.0 in /usr/local/lib/python3.11/dist-packages (from otter-grader) (2.2.2)\n",
            "Collecting python-on-whales<1.0.0,>=0.72.0 (from otter-grader)\n",
            "  Downloading python_on_whales-0.75.1-py3-none-any.whl.metadata (18 kB)\n",
            "Requirement already satisfied: pyyaml<7,>=6 in /usr/local/lib/python3.11/dist-packages (from otter-grader) (6.0.2)\n",
            "Requirement already satisfied: requests<3.0,>=2.31 in /usr/local/lib/python3.11/dist-packages (from otter-grader) (2.32.3)\n",
            "Requirement already satisfied: wrapt<2.0.0,>=1.16.0 in /usr/local/lib/python3.11/dist-packages (from otter-grader) (1.17.2)\n",
            "Requirement already satisfied: docutils in /usr/local/lib/python3.11/dist-packages (from fica>=0.4.1->otter-grader) (0.21.2)\n",
            "Requirement already satisfied: sphinx in /usr/local/lib/python3.11/dist-packages (from fica>=0.4.1->otter-grader) (8.1.3)\n",
            "Collecting comm>=0.1.3 (from ipywidgets<9.0.0,>=8.1.5->otter-grader)\n",
            "  Downloading comm-0.2.2-py3-none-any.whl.metadata (3.7 kB)\n",
            "Requirement already satisfied: traitlets>=4.3.1 in /usr/local/lib/python3.11/dist-packages (from ipywidgets<9.0.0,>=8.1.5->otter-grader) (5.7.1)\n",
            "Collecting widgetsnbextension~=4.0.12 (from ipywidgets<9.0.0,>=8.1.5->otter-grader)\n",
            "  Downloading widgetsnbextension-4.0.13-py3-none-any.whl.metadata (1.6 kB)\n",
            "Requirement already satisfied: jupyterlab-widgets~=3.0.12 in /usr/local/lib/python3.11/dist-packages (from ipywidgets<9.0.0,>=8.1.5->otter-grader) (3.0.13)\n",
            "Requirement already satisfied: setuptools>=18.5 in /usr/local/lib/python3.11/dist-packages (from ipython->otter-grader) (75.1.0)\n",
            "Collecting jedi>=0.16 (from ipython->otter-grader)\n",
            "  Downloading jedi-0.19.2-py2.py3-none-any.whl.metadata (22 kB)\n",
            "Requirement already satisfied: decorator in /usr/local/lib/python3.11/dist-packages (from ipython->otter-grader) (4.4.2)\n",
            "Requirement already satisfied: pickleshare in /usr/local/lib/python3.11/dist-packages (from ipython->otter-grader) (0.7.5)\n",
            "Requirement already satisfied: prompt-toolkit!=3.0.0,!=3.0.1,<3.1.0,>=2.0.0 in /usr/local/lib/python3.11/dist-packages (from ipython->otter-grader) (3.0.50)\n",
            "Requirement already satisfied: pygments in /usr/local/lib/python3.11/dist-packages (from ipython->otter-grader) (2.18.0)\n",
            "Requirement already satisfied: backcall in /usr/local/lib/python3.11/dist-packages (from ipython->otter-grader) (0.2.0)\n",
            "Requirement already satisfied: matplotlib-inline in /usr/local/lib/python3.11/dist-packages (from ipython->otter-grader) (0.1.7)\n",
            "Requirement already satisfied: pexpect>4.3 in /usr/local/lib/python3.11/dist-packages (from ipython->otter-grader) (4.9.0)\n",
            "Requirement already satisfied: MarkupSafe>=2.0 in /usr/local/lib/python3.11/dist-packages (from jinja2<4.0,>=3.1->otter-grader) (3.0.2)\n",
            "Requirement already satisfied: markdown-it-py>=1.0 in /usr/local/lib/python3.11/dist-packages (from jupytext<2.0.0,>=1.16.4->otter-grader) (3.0.0)\n",
            "Requirement already satisfied: mdit-py-plugins in /usr/local/lib/python3.11/dist-packages (from jupytext<2.0.0,>=1.16.4->otter-grader) (0.4.2)\n",
            "Requirement already satisfied: packaging in /usr/local/lib/python3.11/dist-packages (from jupytext<2.0.0,>=1.16.4->otter-grader) (24.2)\n",
            "Requirement already satisfied: beautifulsoup4 in /usr/local/lib/python3.11/dist-packages (from nbconvert>=6.0.0->nbconvert[webpdf]>=6.0.0; sys_platform != \"emscripten\" and sys_platform != \"wasi\"->otter-grader) (4.12.3)\n",
            "Requirement already satisfied: bleach!=5.0.0 in /usr/local/lib/python3.11/dist-packages (from bleach[css]!=5.0.0->nbconvert>=6.0.0->nbconvert[webpdf]>=6.0.0; sys_platform != \"emscripten\" and sys_platform != \"wasi\"->otter-grader) (6.2.0)\n",
            "Requirement already satisfied: defusedxml in /usr/local/lib/python3.11/dist-packages (from nbconvert>=6.0.0->nbconvert[webpdf]>=6.0.0; sys_platform != \"emscripten\" and sys_platform != \"wasi\"->otter-grader) (0.7.1)\n",
            "Requirement already satisfied: jupyter-core>=4.7 in /usr/local/lib/python3.11/dist-packages (from nbconvert>=6.0.0->nbconvert[webpdf]>=6.0.0; sys_platform != \"emscripten\" and sys_platform != \"wasi\"->otter-grader) (5.7.2)\n",
            "Requirement already satisfied: jupyterlab-pygments in /usr/local/lib/python3.11/dist-packages (from nbconvert>=6.0.0->nbconvert[webpdf]>=6.0.0; sys_platform != \"emscripten\" and sys_platform != \"wasi\"->otter-grader) (0.3.0)\n",
            "Requirement already satisfied: mistune<4,>=2.0.3 in /usr/local/lib/python3.11/dist-packages (from nbconvert>=6.0.0->nbconvert[webpdf]>=6.0.0; sys_platform != \"emscripten\" and sys_platform != \"wasi\"->otter-grader) (3.1.0)\n",
            "Requirement already satisfied: nbclient>=0.5.0 in /usr/local/lib/python3.11/dist-packages (from nbconvert>=6.0.0->nbconvert[webpdf]>=6.0.0; sys_platform != \"emscripten\" and sys_platform != \"wasi\"->otter-grader) (0.10.2)\n",
            "Requirement already satisfied: pandocfilters>=1.4.1 in /usr/local/lib/python3.11/dist-packages (from nbconvert>=6.0.0->nbconvert[webpdf]>=6.0.0; sys_platform != \"emscripten\" and sys_platform != \"wasi\"->otter-grader) (1.5.1)\n",
            "Collecting playwright (from nbconvert[webpdf]>=6.0.0; sys_platform != \"emscripten\" and sys_platform != \"wasi\"->otter-grader)\n",
            "  Downloading playwright-1.49.1-py3-none-manylinux1_x86_64.whl.metadata (3.5 kB)\n",
            "Requirement already satisfied: fastjsonschema>=2.15 in /usr/local/lib/python3.11/dist-packages (from nbformat>=5.0.0->otter-grader) (2.21.1)\n",
            "Requirement already satisfied: jsonschema>=2.6 in /usr/local/lib/python3.11/dist-packages (from nbformat>=5.0.0->otter-grader) (4.23.0)\n",
            "Requirement already satisfied: numpy>=1.23.2 in /usr/local/lib/python3.11/dist-packages (from pandas>=2.0.0->otter-grader) (1.26.4)\n",
            "Requirement already satisfied: python-dateutil>=2.8.2 in /usr/local/lib/python3.11/dist-packages (from pandas>=2.0.0->otter-grader) (2.8.2)\n",
            "Requirement already satisfied: pytz>=2020.1 in /usr/local/lib/python3.11/dist-packages (from pandas>=2.0.0->otter-grader) (2024.2)\n",
            "Requirement already satisfied: tzdata>=2022.7 in /usr/local/lib/python3.11/dist-packages (from pandas>=2.0.0->otter-grader) (2025.1)\n",
            "Requirement already satisfied: pydantic!=2.0.*,<3,>=2 in /usr/local/lib/python3.11/dist-packages (from python-on-whales<1.0.0,>=0.72.0->otter-grader) (2.10.5)\n",
            "Requirement already satisfied: typing-extensions in /usr/local/lib/python3.11/dist-packages (from python-on-whales<1.0.0,>=0.72.0->otter-grader) (4.12.2)\n",
            "Requirement already satisfied: charset-normalizer<4,>=2 in /usr/local/lib/python3.11/dist-packages (from requests<3.0,>=2.31->otter-grader) (3.4.1)\n",
            "Requirement already satisfied: idna<4,>=2.5 in /usr/local/lib/python3.11/dist-packages (from requests<3.0,>=2.31->otter-grader) (3.10)\n",
            "Requirement already satisfied: urllib3<3,>=1.21.1 in /usr/local/lib/python3.11/dist-packages (from requests<3.0,>=2.31->otter-grader) (2.3.0)\n",
            "Requirement already satisfied: certifi>=2017.4.17 in /usr/local/lib/python3.11/dist-packages (from requests<3.0,>=2.31->otter-grader) (2024.12.14)\n",
            "Requirement already satisfied: webencodings in /usr/local/lib/python3.11/dist-packages (from bleach!=5.0.0->bleach[css]!=5.0.0->nbconvert>=6.0.0->nbconvert[webpdf]>=6.0.0; sys_platform != \"emscripten\" and sys_platform != \"wasi\"->otter-grader) (0.5.1)\n",
            "Requirement already satisfied: tinycss2<1.5,>=1.1.0 in /usr/local/lib/python3.11/dist-packages (from bleach[css]!=5.0.0->nbconvert>=6.0.0->nbconvert[webpdf]>=6.0.0; sys_platform != \"emscripten\" and sys_platform != \"wasi\"->otter-grader) (1.4.0)\n",
            "Requirement already satisfied: parso<0.9.0,>=0.8.4 in /usr/local/lib/python3.11/dist-packages (from jedi>=0.16->ipython->otter-grader) (0.8.4)\n",
            "Requirement already satisfied: attrs>=22.2.0 in /usr/local/lib/python3.11/dist-packages (from jsonschema>=2.6->nbformat>=5.0.0->otter-grader) (24.3.0)\n",
            "Requirement already satisfied: jsonschema-specifications>=2023.03.6 in /usr/local/lib/python3.11/dist-packages (from jsonschema>=2.6->nbformat>=5.0.0->otter-grader) (2024.10.1)\n",
            "Requirement already satisfied: referencing>=0.28.4 in /usr/local/lib/python3.11/dist-packages (from jsonschema>=2.6->nbformat>=5.0.0->otter-grader) (0.36.1)\n",
            "Requirement already satisfied: rpds-py>=0.7.1 in /usr/local/lib/python3.11/dist-packages (from jsonschema>=2.6->nbformat>=5.0.0->otter-grader) (0.22.3)\n",
            "Requirement already satisfied: platformdirs>=2.5 in /usr/local/lib/python3.11/dist-packages (from jupyter-core>=4.7->nbconvert>=6.0.0->nbconvert[webpdf]>=6.0.0; sys_platform != \"emscripten\" and sys_platform != \"wasi\"->otter-grader) (4.3.6)\n",
            "Requirement already satisfied: mdurl~=0.1 in /usr/local/lib/python3.11/dist-packages (from markdown-it-py>=1.0->jupytext<2.0.0,>=1.16.4->otter-grader) (0.1.2)\n",
            "Requirement already satisfied: jupyter-client>=6.1.12 in /usr/local/lib/python3.11/dist-packages (from nbclient>=0.5.0->nbconvert>=6.0.0->nbconvert[webpdf]>=6.0.0; sys_platform != \"emscripten\" and sys_platform != \"wasi\"->otter-grader) (6.1.12)\n",
            "Requirement already satisfied: ptyprocess>=0.5 in /usr/local/lib/python3.11/dist-packages (from pexpect>4.3->ipython->otter-grader) (0.7.0)\n",
            "Requirement already satisfied: wcwidth in /usr/local/lib/python3.11/dist-packages (from prompt-toolkit!=3.0.0,!=3.0.1,<3.1.0,>=2.0.0->ipython->otter-grader) (0.2.13)\n",
            "Requirement already satisfied: annotated-types>=0.6.0 in /usr/local/lib/python3.11/dist-packages (from pydantic!=2.0.*,<3,>=2->python-on-whales<1.0.0,>=0.72.0->otter-grader) (0.7.0)\n",
            "Requirement already satisfied: pydantic-core==2.27.2 in /usr/local/lib/python3.11/dist-packages (from pydantic!=2.0.*,<3,>=2->python-on-whales<1.0.0,>=0.72.0->otter-grader) (2.27.2)\n",
            "Requirement already satisfied: six>=1.5 in /usr/local/lib/python3.11/dist-packages (from python-dateutil>=2.8.2->pandas>=2.0.0->otter-grader) (1.17.0)\n",
            "Requirement already satisfied: soupsieve>1.2 in /usr/local/lib/python3.11/dist-packages (from beautifulsoup4->nbconvert>=6.0.0->nbconvert[webpdf]>=6.0.0; sys_platform != \"emscripten\" and sys_platform != \"wasi\"->otter-grader) (2.6)\n",
            "Requirement already satisfied: greenlet==3.1.1 in /usr/local/lib/python3.11/dist-packages (from playwright->nbconvert[webpdf]>=6.0.0; sys_platform != \"emscripten\" and sys_platform != \"wasi\"->otter-grader) (3.1.1)\n",
            "Collecting pyee==12.0.0 (from playwright->nbconvert[webpdf]>=6.0.0; sys_platform != \"emscripten\" and sys_platform != \"wasi\"->otter-grader)\n",
            "  Downloading pyee-12.0.0-py3-none-any.whl.metadata (2.8 kB)\n",
            "Requirement already satisfied: sphinxcontrib-applehelp>=1.0.7 in /usr/local/lib/python3.11/dist-packages (from sphinx->fica>=0.4.1->otter-grader) (2.0.0)\n",
            "Requirement already satisfied: sphinxcontrib-devhelp>=1.0.6 in /usr/local/lib/python3.11/dist-packages (from sphinx->fica>=0.4.1->otter-grader) (2.0.0)\n",
            "Requirement already satisfied: sphinxcontrib-htmlhelp>=2.0.6 in /usr/local/lib/python3.11/dist-packages (from sphinx->fica>=0.4.1->otter-grader) (2.1.0)\n",
            "Requirement already satisfied: sphinxcontrib-jsmath>=1.0.1 in /usr/local/lib/python3.11/dist-packages (from sphinx->fica>=0.4.1->otter-grader) (1.0.1)\n",
            "Requirement already satisfied: sphinxcontrib-qthelp>=1.0.6 in /usr/local/lib/python3.11/dist-packages (from sphinx->fica>=0.4.1->otter-grader) (2.0.0)\n",
            "Requirement already satisfied: sphinxcontrib-serializinghtml>=1.1.9 in /usr/local/lib/python3.11/dist-packages (from sphinx->fica>=0.4.1->otter-grader) (2.0.0)\n",
            "Requirement already satisfied: snowballstemmer>=2.2 in /usr/local/lib/python3.11/dist-packages (from sphinx->fica>=0.4.1->otter-grader) (2.2.0)\n",
            "Requirement already satisfied: babel>=2.13 in /usr/local/lib/python3.11/dist-packages (from sphinx->fica>=0.4.1->otter-grader) (2.16.0)\n",
            "Requirement already satisfied: alabaster>=0.7.14 in /usr/local/lib/python3.11/dist-packages (from sphinx->fica>=0.4.1->otter-grader) (1.0.0)\n",
            "Requirement already satisfied: imagesize>=1.3 in /usr/local/lib/python3.11/dist-packages (from sphinx->fica>=0.4.1->otter-grader) (1.4.1)\n",
            "Requirement already satisfied: pyzmq>=13 in /usr/local/lib/python3.11/dist-packages (from jupyter-client>=6.1.12->nbclient>=0.5.0->nbconvert>=6.0.0->nbconvert[webpdf]>=6.0.0; sys_platform != \"emscripten\" and sys_platform != \"wasi\"->otter-grader) (24.0.1)\n",
            "Requirement already satisfied: tornado>=4.1 in /usr/local/lib/python3.11/dist-packages (from jupyter-client>=6.1.12->nbclient>=0.5.0->nbconvert>=6.0.0->nbconvert[webpdf]>=6.0.0; sys_platform != \"emscripten\" and sys_platform != \"wasi\"->otter-grader) (6.3.3)\n",
            "Downloading otter_grader-6.0.5-py3-none-any.whl (141 kB)\n",
            "\u001b[2K   \u001b[90m━━━━━━━━━━━━━━━━━━━━━━━━━━━━━━━━━━━━━━━━\u001b[0m \u001b[32m141.7/141.7 kB\u001b[0m \u001b[31m6.3 MB/s\u001b[0m eta \u001b[36m0:00:00\u001b[0m\n",
            "\u001b[?25hDownloading dill-0.3.9-py3-none-any.whl (119 kB)\n",
            "\u001b[2K   \u001b[90m━━━━━━━━━━━━━━━━━━━━━━━━━━━━━━━━━━━━━━━━\u001b[0m \u001b[32m119.4/119.4 kB\u001b[0m \u001b[31m9.7 MB/s\u001b[0m eta \u001b[36m0:00:00\u001b[0m\n",
            "\u001b[?25hDownloading fica-0.4.1-py3-none-any.whl (13 kB)\n",
            "Downloading ipylab-1.0.0-py3-none-any.whl (100 kB)\n",
            "\u001b[2K   \u001b[90m━━━━━━━━━━━━━━━━━━━━━━━━━━━━━━━━━━━━━━━━\u001b[0m \u001b[32m100.2/100.2 kB\u001b[0m \u001b[31m7.5 MB/s\u001b[0m eta \u001b[36m0:00:00\u001b[0m\n",
            "\u001b[?25hDownloading ipywidgets-8.1.5-py3-none-any.whl (139 kB)\n",
            "\u001b[2K   \u001b[90m━━━━━━━━━━━━━━━━━━━━━━━━━━━━━━━━━━━━━━━━\u001b[0m \u001b[32m139.8/139.8 kB\u001b[0m \u001b[31m10.9 MB/s\u001b[0m eta \u001b[36m0:00:00\u001b[0m\n",
            "\u001b[?25hDownloading jupytext-1.16.6-py3-none-any.whl (154 kB)\n",
            "\u001b[2K   \u001b[90m━━━━━━━━━━━━━━━━━━━━━━━━━━━━━━━━━━━━━━━━\u001b[0m \u001b[32m154.2/154.2 kB\u001b[0m \u001b[31m13.4 MB/s\u001b[0m eta \u001b[36m0:00:00\u001b[0m\n",
            "\u001b[?25hDownloading python_on_whales-0.75.1-py3-none-any.whl (114 kB)\n",
            "\u001b[2K   \u001b[90m━━━━━━━━━━━━━━━━━━━━━━━━━━━━━━━━━━━━━━━━\u001b[0m \u001b[32m115.0/115.0 kB\u001b[0m \u001b[31m9.5 MB/s\u001b[0m eta \u001b[36m0:00:00\u001b[0m\n",
            "\u001b[?25hDownloading comm-0.2.2-py3-none-any.whl (7.2 kB)\n",
            "Downloading jedi-0.19.2-py2.py3-none-any.whl (1.6 MB)\n",
            "\u001b[2K   \u001b[90m━━━━━━━━━━━━━━━━━━━━━━━━━━━━━━━━━━━━━━━━\u001b[0m \u001b[32m1.6/1.6 MB\u001b[0m \u001b[31m43.5 MB/s\u001b[0m eta \u001b[36m0:00:00\u001b[0m\n",
            "\u001b[?25hDownloading widgetsnbextension-4.0.13-py3-none-any.whl (2.3 MB)\n",
            "\u001b[2K   \u001b[90m━━━━━━━━━━━━━━━━━━━━━━━━━━━━━━━━━━━━━━━━\u001b[0m \u001b[32m2.3/2.3 MB\u001b[0m \u001b[31m53.4 MB/s\u001b[0m eta \u001b[36m0:00:00\u001b[0m\n",
            "\u001b[?25hDownloading playwright-1.49.1-py3-none-manylinux1_x86_64.whl (44.2 MB)\n",
            "\u001b[2K   \u001b[90m━━━━━━━━━━━━━━━━━━━━━━━━━━━━━━━━━━━━━━━━\u001b[0m \u001b[32m44.2/44.2 MB\u001b[0m \u001b[31m22.4 MB/s\u001b[0m eta \u001b[36m0:00:00\u001b[0m\n",
            "\u001b[?25hDownloading pyee-12.0.0-py3-none-any.whl (14 kB)\n",
            "Installing collected packages: widgetsnbextension, pyee, jedi, dill, comm, playwright, python-on-whales, ipywidgets, fica, ipylab, jupytext, otter-grader\n",
            "  Attempting uninstall: widgetsnbextension\n",
            "    Found existing installation: widgetsnbextension 3.6.10\n",
            "    Uninstalling widgetsnbextension-3.6.10:\n",
            "      Successfully uninstalled widgetsnbextension-3.6.10\n",
            "  Attempting uninstall: ipywidgets\n",
            "    Found existing installation: ipywidgets 7.7.1\n",
            "    Uninstalling ipywidgets-7.7.1:\n",
            "      Successfully uninstalled ipywidgets-7.7.1\n",
            "Successfully installed comm-0.2.2 dill-0.3.9 fica-0.4.1 ipylab-1.0.0 ipywidgets-8.1.5 jedi-0.19.2 jupytext-1.16.6 otter-grader-6.0.5 playwright-1.49.1 pyee-12.0.0 python-on-whales-0.75.1 widgetsnbextension-4.0.13\n"
          ]
        },
        {
          "output_type": "display_data",
          "data": {
            "application/vnd.colab-display-data+json": {
              "pip_warning": {
                "packages": [
                  "ipywidgets"
                ]
              },
              "id": "e06d6be17d804ab4916d5e8fdbfa663f"
            }
          },
          "metadata": {}
        }
      ],
      "source": [
        "# @title\n",
        "\"\"\"NOTE: Make this cell a Markdown cell after running it for the first time\n",
        "so you don't get disturbed when running the cell again\"\"\"\n",
        "!pip install gdown\n",
        "!gdown https://drive.google.com/uc?id=1byudHwT6yOh50Iic2LZ4y7tdlu4Hj5sR\n",
        "!unzip HW0_util.zip\n",
        "!rm HW0_util.zip\n",
        "!pip install otter-grader\n"
      ]
    },
    {
      "cell_type": "markdown",
      "metadata": {
        "id": "BbRvz8lHKKG0"
      },
      "source": [
        "First, let's import the required libraries and initialize the Otter grader:\n"
      ]
    },
    {
      "cell_type": "code",
      "execution_count": 8,
      "metadata": {
        "id": "5XvcC8PoKKG0"
      },
      "outputs": [],
      "source": [
        "import numpy as np\n",
        "import matplotlib.pyplot as plt\n",
        "from scipy import linalg, signal\n",
        "\n",
        "import otter\n",
        "grader = otter.Notebook()"
      ]
    },
    {
      "cell_type": "markdown",
      "metadata": {
        "id": "06gukbA9KKG0"
      },
      "source": [
        "## Working with Jupyter Notebooks\n",
        "\n",
        "This homework uses Jupyter Notebooks, an interactive environment that combines code, text, and visualizations. Here are the key things you need to know:\n"
      ]
    },
    {
      "cell_type": "markdown",
      "metadata": {
        "id": "FyrqguRUKKG0"
      },
      "source": [
        "### Cell Types\n",
        "- **Code Cells**: Where you write and run Python code. Execute them using Shift+Enter or the ▶ button.\n",
        "- **Markdown Cells**: For text, equations, and explanations. They support formatting like **bold**, *italic*, and mathematical equations using LaTeX syntax. See [Markdown Guide](https://www.markdownguide.org/basic-syntax/) for formatting help and [LaTeX Math Documentation](https://www.overleaf.com/learn/latex/Mathematical_expressions) for equation syntax.\n"
      ]
    },
    {
      "cell_type": "markdown",
      "metadata": {
        "id": "OXVgpu4fKKG1"
      },
      "source": [
        "### Important Tips\n",
        "1. **Cell Order Matters**: Notebooks remember variable values from previously executed cells. Running cells out of order can cause unexpected results.\n",
        "2. **Kernel State**: The \"Kernel\" maintains your notebook's memory. If things behave strangely:\n",
        "   - Try \"Restart Kernel\" to clear all variables\n",
        "   - Then run cells from top to bottom\n",
        "3. **Best Practice**: When in doubt, use \"Restart Kernel and Run All Cells\" from the Kernel menu to ensure consistent results.\n",
        "\n",
        "For more details, see the [Jupyter Notebook Documentation](https://jupyter-notebook.readthedocs.io/en/latest/notebook.html).\n"
      ]
    },
    {
      "cell_type": "markdown",
      "metadata": {
        "id": "JpXsI8GnKKG1"
      },
      "source": [
        "## Required Libraries and Tools\n",
        "\n",
        "For this assignment, you'll need to be familiar with the following Python libraries:\n"
      ]
    },
    {
      "cell_type": "markdown",
      "metadata": {
        "id": "hO064SLFKKG1"
      },
      "source": [
        "### NumPy\n",
        "NumPy is the fundamental package for scientific computing in Python. It provides:\n",
        "- A powerful N-dimensional array object for efficient numerical computations\n",
        "- Tools for integrating C/C++ and Fortran code\n",
        "- Useful linear algebra operations, Fourier transform, and random number capabilities\n",
        "\n",
        "Key use cases:\n",
        "- Mathematical operations on arrays and matrices\n",
        "- Linear algebra operations (matrix multiplication, decomposition, etc.)\n",
        "- Random number generation and statistical functions\n",
        "\n",
        "View NumPy's official [User Guide](https://numpy.org/doc/stable/user/index.html) for more information.\n"
      ]
    },
    {
      "cell_type": "markdown",
      "metadata": {
        "id": "rKq3x-ldKKG1"
      },
      "source": [
        "### Matplotlib\n",
        "Matplotlib is a comprehensive library for creating static, animated, and interactive visualizations in Python. Features include:\n",
        "- Publication-quality figures in various formats\n",
        "- Control over every aspect of a figure's appearance\n",
        "- Integration with Jupyter notebooks for interactive plotting\n",
        "\n",
        "Key use cases:\n",
        "- Creating line plots, scatter plots, and histograms\n",
        "- Visualizing scientific data with customizable styling\n",
        "- Generating multiple subplots and annotations\n",
        "\n",
        "Matplotlib provides official [Tutorials](https://matplotlib.org/stable/tutorials/index.html) and [Cheatsheets](https://matplotlib.org/cheatsheets/) for beginners and professionals.\n"
      ]
    },
    {
      "cell_type": "markdown",
      "metadata": {
        "id": "W2gJuc2HKKG1"
      },
      "source": [
        "### SciPy\n",
        "SciPy builds on NumPy and provides additional functionality for optimization, linear algebra, integration, interpolation, and other domains. It offers:\n",
        "- Optimization and root finding algorithms\n",
        "- Linear algebra operations and sparse matrices\n",
        "- Signal and image processing tools\n",
        "\n",
        "Key use cases:\n",
        "- Scientific and engineering computations\n",
        "- Signal processing and system simulation\n",
        "- Optimization and equation solving\n",
        "\n",
        "View Scipy's official [User Guide](https://docs.scipy.org/doc/scipy-1.15.0/tutorial/index.html) for more information.\n"
      ]
    },
    {
      "cell_type": "markdown",
      "metadata": {
        "id": "CB1oYqVTKKG1"
      },
      "source": [
        "### Quick Guide to Using Python Libraries\n",
        "\n",
        "#### Importing Libraries\n",
        "Before you can use any library in Python, you need to import it first. This is like telling Python \"I want to use these tools in my code.\" For this homework, you'll typically start your code with:\n"
      ]
    },
    {
      "cell_type": "code",
      "execution_count": 9,
      "metadata": {
        "id": "18zXfSZ0KKG1"
      },
      "outputs": [],
      "source": [
        "import numpy as np              # 'np' is a shorter nickname we use for numpy\n",
        "import matplotlib.pyplot as plt # 'plt' is the standard nickname for pyplot\n",
        "from scipy import signal       # Import specific tools from scipy\n"
      ]
    },
    {
      "cell_type": "markdown",
      "metadata": {
        "id": "kcj2z9n7KKG1"
      },
      "source": [
        "If you're using Google Colab, these libraries are already installed. You just need to import them as shown above.\n",
        "*In case you need to manually manage python environment and package usage in your own project, you may find [this guide on using Anaconda](https://docs.conda.io/projects/conda/en/latest/user-guide/tasks/manage-environments.html) helpful.*\n",
        "\n",
        "#### Understanding Objects, Attributes, and Methods\n",
        "\n",
        "When you see code like `plt.plot()` or `np.array([1, 2, 3])`, here's what's happening:\n",
        "\n",
        "- Think of an **object** as a \"thing\" that can hold both data and actions. For example, a list `[1, 2, 3]` is an object that holds numbers.\n",
        "- The **dot (.)** after a name means \"I want to access something that belongs to this object\"\n",
        "- **Methods** are actions that an object can perform, and they always end with parentheses `()`. For example:\n"
      ]
    },
    {
      "cell_type": "code",
      "execution_count": 10,
      "metadata": {
        "id": "qYWbXZkjKKG1"
      },
      "outputs": [],
      "source": [
        "numbers = [1, 2, 3]          # This is a list object\n",
        "numbers.append(4)            # .append() is a method that adds a number to the list\n"
      ]
    },
    {
      "cell_type": "markdown",
      "metadata": {
        "id": "Z01ubFZwKKG1"
      },
      "source": [
        "Here's another example:\n"
      ]
    },
    {
      "cell_type": "code",
      "execution_count": 11,
      "metadata": {
        "id": "ZWIQbc2nKKG2",
        "colab": {
          "base_uri": "https://localhost:8080/",
          "height": 452
        },
        "outputId": "dabc3925-6c7b-4b8a-dd2c-32e004092844"
      },
      "outputs": [
        {
          "output_type": "display_data",
          "data": {
            "text/plain": [
              "<Figure size 640x480 with 1 Axes>"
            ],
            "image/png": "[encoded data removed]"
          },
          "metadata": {}
        }
      ],
      "source": [
        "# Create an array (think of it as a fancy list) using numpy\n",
        "data = np.array([1, 2, 3])     # np.array() creates a numpy array [object]\n",
        "\n",
        "# Plot this data using matplotlib\n",
        "fig, ax = plt.subplots()       # Create a figure and axis [object]\n",
        "ax.plot(data)                  # ax.plot() is a method of the [object] ax\n",
        "ax.set_title('My Plot')        # ax.set_title() adds a title to the plot\n",
        "fig.show()                     # fig.show() displays the plot\n"
      ]
    },
    {
      "cell_type": "markdown",
      "metadata": {
        "id": "RE1psEHBKKG2"
      },
      "source": [
        "Don't worry if you don't understand everything at first. The key is to recognize these patterns:\n",
        "- `something.another_thing()`: This means \"do an action\"\n",
        "- `something.another_thing`: This means \"get some information\"\n"
      ]
    },
    {
      "cell_type": "markdown",
      "metadata": {
        "id": "60HQfcJ1KKG2"
      },
      "source": [
        "## Problem 1: Arrays\n"
      ]
    },
    {
      "cell_type": "markdown",
      "metadata": {
        "id": "jn1WOIcVKKG2"
      },
      "source": [
        "### Problem 1(a): Creating Matrices\n",
        "\n",
        "Create the following matrices using [`np.array()`](https://numpy.org/doc/stable/reference/generated/numpy.array.html).\n",
        "\n",
        "$D = \\begin{bmatrix}\n",
        "2 & 6 & -3 \\\\\n",
        "3 & 9 & -1\n",
        "\\end{bmatrix}$\n",
        "\n",
        "$E = \\begin{bmatrix}\n",
        "1 & 2 \\\\\n",
        "3 & 4\n",
        "\\end{bmatrix}$\n",
        "\n",
        "$F = \\begin{bmatrix}\n",
        "-5 & 5 \\\\\n",
        "5 & 3\n",
        "\\end{bmatrix}$\n"
      ]
    },
    {
      "cell_type": "code",
      "execution_count": 24,
      "metadata": {
        "id": "E09Ohm7vKKG2"
      },
      "outputs": [],
      "source": [
        "# Create your matrices D, E, and F here\n",
        "\"\"\" TODO: WRITE YOUR CODE BELOW \"\"\"\n",
        "D = np.array([[2,6,-3], [3,9,-1]])\n",
        "E = np.array([[1,2],[3,4]])\n",
        "F = np.array([[-5,5],[5,3]])\n",
        "\"\"\" END OF TODO \"\"\"\n",
        "mats_q1a = (D, E, F) # NOTE: do not change this line\n"
      ]
    },
    {
      "cell_type": "code",
      "execution_count": 26,
      "metadata": {
        "id": "z5K3ejQNKKG2",
        "colab": {
          "base_uri": "https://localhost:8080/",
          "height": 46
        },
        "outputId": "e045ecfa-8126-4298-d970-93929267daab"
      },
      "outputs": [
        {
          "output_type": "execute_result",
          "data": {
            "text/plain": [
              "q1a results: All test cases passed!"
            ],
            "text/html": [
              "<p><strong><pre style='display: inline;'>q1a</pre></strong> passed! ✨</p>"
            ]
          },
          "metadata": {},
          "execution_count": 26
        }
      ],
      "source": [
        "# Run this cell to check your solution\n",
        "grader.check(\"q1a\")\n"
      ]
    },
    {
      "cell_type": "markdown",
      "metadata": {
        "id": "C4r_O0JPKKG2"
      },
      "source": [
        "### Problem 1(b): Matrix Slicing\n",
        "\n",
        "Extract the following 2x2 matrix $G$ from $D$ using array slicing.\n",
        "\n",
        "$G = \\begin{bmatrix}\n",
        "2 & 6 \\\\\n",
        "3 & 9\n",
        "\\end{bmatrix}$\n",
        "\n",
        "*Hint: NumPy arrays can be sliced using [`array[row_range, col_range]`](https://numpy.org/doc/stable/user/basics.indexing.html).*\n"
      ]
    },
    {
      "cell_type": "code",
      "execution_count": 31,
      "metadata": {
        "id": "PMEqzO6bKKG2"
      },
      "outputs": [],
      "source": [
        "# Create matrix G by slicing D\n",
        "\"\"\" TODO: WRITE YOUR CODE BELOW \"\"\"\n",
        "G = D[:,0:2]\n",
        "\"\"\" END OF TODO \"\"\"\n",
        "mats_q1b = G # NOTE: do not change this line\n"
      ]
    },
    {
      "cell_type": "code",
      "execution_count": 32,
      "metadata": {
        "id": "I0-VTlO_KKG2",
        "colab": {
          "base_uri": "https://localhost:8080/",
          "height": 46
        },
        "outputId": "f9350411-0429-4509-9f60-e947e6241173"
      },
      "outputs": [
        {
          "output_type": "execute_result",
          "data": {
            "text/plain": [
              "q1b results: All test cases passed!"
            ],
            "text/html": [
              "<p><strong><pre style='display: inline;'>q1b</pre></strong> passed! 💯</p>"
            ]
          },
          "metadata": {},
          "execution_count": 32
        }
      ],
      "source": [
        "# Run this cell to check your solution\n",
        "grader.check(\"q1b\")\n"
      ]
    },
    {
      "cell_type": "markdown",
      "metadata": {
        "id": "nwhZ486fKKG2"
      },
      "source": [
        "### Problem 1(c): Block Diagonal Matrix\n",
        "\n",
        "Create the following matrix $H$ using the matrices $E$, $F$, and $G$:\n",
        "\n",
        "$H = \\begin{bmatrix}\n",
        "2 & 6 & 0 & 0 & 0 & 0 \\\\\n",
        "3 & 9 & 0 & 0 & 0 & 0 \\\\\n",
        "0 & 0 & 1 & 2 & 0 & 0 \\\\\n",
        "0 & 0 & 3 & 4 & 0 & 0 \\\\\n",
        "0 & 0 & 0 & 0 & -5 & 5 \\\\\n",
        "0 & 0 & 0 & 0 & 5 & 3\n",
        "\\end{bmatrix}$\n",
        "\n",
        "*Hint: Look into [`scipy.linalg.block_diag()`](https://docs.scipy.org/doc/scipy/reference/generated/scipy.linalg.block_diag.html) for combining matrices in a block diagonal pattern.*\n"
      ]
    },
    {
      "cell_type": "code",
      "source": [
        "D"
      ],
      "metadata": {
        "colab": {
          "base_uri": "https://localhost:8080/"
        },
        "id": "JH-8_6ax8JUb",
        "outputId": "f1960281-aec6-4465-af0d-6c36b0e16fcf"
      },
      "execution_count": 33,
      "outputs": [
        {
          "output_type": "execute_result",
          "data": {
            "text/plain": [
              "array([[ 2,  6, -3],\n",
              "       [ 3,  9, -1]])"
            ]
          },
          "metadata": {},
          "execution_count": 33
        }
      ]
    },
    {
      "cell_type": "code",
      "execution_count": null,
      "metadata": {
        "id": "SMqXIa5XKKG2"
      },
      "outputs": [],
      "source": [
        "# Create matrix H using block_diag\n",
        "\"\"\" TODO: WRITE YOUR CODE BELOW \"\"\"\n",
        "\n",
        "\"\"\" END OF TODO \"\"\"\n",
        "mats_q1c = H # NOTE: do not change this line\n"
      ]
    },
    {
      "cell_type": "code",
      "execution_count": null,
      "metadata": {
        "id": "G1DkRdJKKKG2"
      },
      "outputs": [],
      "source": [
        "# Run this cell to check your solution\n",
        "grader.check(\"q1c\")\n"
      ]
    },
    {
      "cell_type": "markdown",
      "metadata": {
        "id": "gwLI0E2XKKG2"
      },
      "source": [
        "## Problem 2: Plotting\n",
        "\n",
        "Create a plot of $\\sin(x)$ and $\\cos(x)$ between $x = -3\\pi$ and $x = +3\\pi$ on the same graph. Your plot should have:\n",
        "1. Both sine and cosine curves in different colors\n",
        "2. A legend identifying each curve\n",
        "3. X-axis label 'x'\n",
        "4. Y-axis label 'y'\n",
        "5. Title 'Sine and Cosine Functions'\n",
        "6. Grid lines\n",
        "\n",
        "*Hint: Use [`np.linspace()`](https://numpy.org/doc/stable/reference/generated/numpy.linspace.html) to create evenly spaced points for x.*\n"
      ]
    },
    {
      "cell_type": "code",
      "execution_count": null,
      "metadata": {
        "id": "Y7zla3VsKKG2"
      },
      "outputs": [],
      "source": [
        "# Create your data here\n",
        "# Use these exact variable names:\n",
        "# x: for x values\n",
        "# y_sin: for sine values\n",
        "# y_cos: for cosine values\n",
        "\n",
        "\"\"\" TODO: WRITE YOUR CODE BELOW \"\"\"\n",
        "\n",
        "\"\"\" END OF TODO \"\"\"\n",
        "\n",
        "# Create your plot here\n",
        "fig, ax = plt.subplots(figsize=(10, 6))\n",
        "\"\"\" TODO: WRITE YOUR CODE BELOW \"\"\"\n",
        "\n",
        "\"\"\" END OF TODO \"\"\"\n",
        "\n",
        "data_q2 = (x, y_sin, y_cos) # NOTE: do not change this line\n",
        "ax_q2 = ax # NOTE: do not change this line\n",
        "\n",
        "# FIXME: Autograder is currently unavailable for this question\n"
      ]
    },
    {
      "cell_type": "markdown",
      "metadata": {
        "id": "GhjpFATQKKG2"
      },
      "source": [
        "## Problem 3: Functions\n",
        "\n",
        "Write a function `compute_series_remainder(n)` that computes the remainder term of the series\n",
        "$\\sum_{k=1}^{\\infty} \\frac{1}{k^2} = \\frac{\\pi^2}{6}$, i.e.,\n",
        "your function should compute:\n",
        "\n",
        "$$R(n) = \\frac{\\pi^2}{6} - \\sum_{k=1}^{n} \\frac{1}{k^2}$$\n"
      ]
    },
    {
      "cell_type": "code",
      "execution_count": null,
      "metadata": {
        "id": "FuoGmnZTKKG2"
      },
      "outputs": [],
      "source": [
        "def compute_series_remainder(n):\n",
        "    \"\"\"\n",
        "    Compute the remainder term of the series sum(1/k^2) from k=1 to infinity.\n",
        "\n",
        "    Args:\n",
        "        n (int): Upper limit of the finite sum\n",
        "\n",
        "    Returns:\n",
        "        float: The remainder term R(n) = pi^2/6 - sum(1/k^2) from k=1 to n\n",
        "    \"\"\"\n",
        "\n",
        "    # hint: constant pi can be accessed as np.pi\n",
        "    \"\"\" TODO: WRITE YOUR CODE BELOW \"\"\"\n",
        "\n",
        "    \"\"\" END OF TODO \"\"\"\n",
        "    return R\n",
        "\n",
        "# Test your function with n = 5\n",
        "result = compute_series_remainder(5)\n",
        "print(f\"The remainder term for n = 5 is {result:.6f}\")\n"
      ]
    },
    {
      "cell_type": "code",
      "execution_count": null,
      "metadata": {
        "id": "feQXQTnDKKG3"
      },
      "outputs": [],
      "source": [
        "# Run this cell to check your solution\n",
        "grader.check(\"q3\")\n"
      ]
    },
    {
      "cell_type": "markdown",
      "metadata": {
        "id": "5NrCgPq-KKG3"
      },
      "source": [
        "## Problem 4: RLC Circuit\n",
        "\n",
        "We will now consider a simple series combination of three passive electrical elements: a resistor, an inductor, and a capacitor, known as an RLC Circuit.\n",
        "\n",
        "![RLC Circuit](https://yi-ju.me/host_files/ce295-sp25/hw0/RLC.png)\n",
        "\n",
        "Since this circuit is a single loop, each node only has one input and output; therefore, application of [Kirchoff's current law](https://en.wikipedia.org/wiki/Kirchhoff%27s_circuit_laws#Kirchhoff's_current_law) shows that the current is the same throughout the circuit at any given time, $i(t)$.\n",
        "\n",
        "Now applying [Kirchoff's voltage law](https://en.wikipedia.org/wiki/Kirchhoff%27s_circuit_laws#Kirchhoff's_voltage_law) around the loop and using the sign conventions indicated in the diagram, we arrive at the following governing equation.\n",
        "$$\n",
        "V(t) - L \\frac{di}{dt} - R i - \\frac{1}{C} \\int i dt = 0\n",
        "$$\n",
        "\n",
        "We note that that the governing equation for the RLC circuit is a so-called **second order system**, *to be explained in lecture*. The state-space representation is found by choosing the charge $q$ and current $i$ as the state variables:\n",
        "\n",
        "$$\n",
        "\\mathbf{x} = \\left[ \\begin{array}{c} q \\\\ i \\end{array}\\right]\n",
        "$$\n",
        "\n",
        "where, $q = \\int i dt$.\n",
        "\n",
        "The governing equations are:\n",
        "\n",
        "$\\dot{\\mathbf{x}} = \\begin{bmatrix} i \\\\ \\frac{di}{dt} \\end{bmatrix} = \\begin{bmatrix} 0 & 1 \\\\ -\\frac{1}{LC} & -\\frac{R}{L} \\end{bmatrix} \\begin{bmatrix} q \\\\ i \\end{bmatrix} + \\begin{bmatrix} 0 \\\\ \\frac{1}{L} \\end{bmatrix} V(t)$\n",
        "\n",
        "$y = \\begin{bmatrix} 0 & 1 \\end{bmatrix} \\begin{bmatrix} q \\\\ i \\end{bmatrix}$\n"
      ]
    },
    {
      "cell_type": "markdown",
      "metadata": {
        "id": "iM60ymalKKG3"
      },
      "source": [
        "### Problem 4(a): Circuit Parameters\n",
        "\n",
        "Assign the following numerical values:\n",
        "- $R = 0.2 \\Omega$\n",
        "- $L = 1 \\text{H}$\n",
        "- $C = 1 \\text{F}$\n"
      ]
    },
    {
      "cell_type": "code",
      "execution_count": null,
      "metadata": {
        "id": "8pRCryswKKG3"
      },
      "outputs": [],
      "source": [
        "# Assign the circuit parameters\n",
        "\"\"\" TODO: WRITE YOUR CODE BELOW \"\"\"\n",
        "\n",
        "\"\"\" END OF TODO \"\"\"\n",
        "param_q4a = (R, L, C) # NOTE: do not change this line\n"
      ]
    },
    {
      "cell_type": "code",
      "execution_count": null,
      "metadata": {
        "id": "hhLR_PT2KKG3"
      },
      "outputs": [],
      "source": [
        "# Run this cell to check your solution\n",
        "grader.check(\"q4a\")\n"
      ]
    },
    {
      "cell_type": "markdown",
      "metadata": {
        "id": "XWD3WcF7KKG3"
      },
      "source": [
        "### Problem 4(b): System Matrices\n",
        "\n",
        "The governing equations take the form of $\\dot{\\mathbf{x}} = \\textbf{A} \\textbf{x} + \\textbf{B} V(t)$, and $y = \\textbf{C} \\textbf{x}$.\n",
        "\n",
        "Use your variable definitions to compute matrices $\\textbf{A}$, $\\textbf{B}$, $\\textbf{C}$ as `numpy` arrays.\n"
      ]
    },
    {
      "cell_type": "code",
      "execution_count": null,
      "metadata": {
        "id": "7IauKBUXKKG5"
      },
      "outputs": [],
      "source": [
        "# Create the system matrices\n",
        "# Use these exact variable names: A, B, C\n",
        "\"\"\" TODO: WRITE YOUR CODE BELOW \"\"\"\n",
        "\n",
        "\"\"\" END OF TODO \"\"\"\n",
        "mats_q4b = (A, B, C) # NOTE: do not change this line\n"
      ]
    },
    {
      "cell_type": "code",
      "execution_count": null,
      "metadata": {
        "id": "J6GphUC-KKG6"
      },
      "outputs": [],
      "source": [
        "# Run this cell to check your solution\n",
        "grader.check(\"q4b\")\n"
      ]
    },
    {
      "cell_type": "markdown",
      "metadata": {
        "id": "RP2Cz6e7KKG6"
      },
      "source": [
        "### Problem 4(c): State Space Model\n",
        "\n",
        "Create a state-space model using [`scipy.signal.StateSpace`](https://docs.scipy.org/doc/scipy-1.15.0/reference/generated/scipy.signal.StateSpace.html).\n",
        "Name the system as `sys_q4` exactly.\n",
        "\n",
        "*Hint: Include a feedforward matrix $D = 0$.*\n"
      ]
    },
    {
      "cell_type": "code",
      "execution_count": null,
      "metadata": {
        "id": "cYU9Zh3eKKG6"
      },
      "outputs": [],
      "source": [
        "# Create the state space model\n",
        "# Use these exact variable name: sys_q4\n",
        "\"\"\" TODO: WRITE YOUR CODE BELOW \"\"\"\n",
        "\n",
        "\"\"\" END OF TODO \"\"\"\n",
        "\n",
        "type(sys_q4)  # should be <class 'scipy.signal.StateSpace'>\n"
      ]
    },
    {
      "cell_type": "code",
      "execution_count": null,
      "metadata": {
        "id": "8240DAhKKKG6"
      },
      "outputs": [],
      "source": [
        "# Run this cell to check your solution\n",
        "grader.check(\"q4c\")\n"
      ]
    },
    {
      "cell_type": "markdown",
      "metadata": {
        "id": "quGi-hHvKKG6"
      },
      "source": [
        "### Problem 4(d): System Simulation\n",
        "\n",
        "Simulate the system response to a unit step input:\n",
        "1. Create a time vector from 0 to 50 seconds with 0.01s step size\n",
        "2. Create a unit step input, i.e., $V(t) = 1$.\n",
        "3. Simulate the system using [`scipy.signal.lsim`](https://docs.scipy.org/doc/scipy/reference/generated/scipy.signal.lsim.html#scipy.signal.lsim).\n",
        "4. Plot the results showing both current and charge. **Please follow the same plot formatting instructions in Q2**.\n"
      ]
    },
    {
      "cell_type": "code",
      "execution_count": null,
      "metadata": {
        "id": "_qy6W3AAKKG6"
      },
      "outputs": [],
      "source": [
        "# Simulate and plot the system\n",
        "# Use these exact variable names:\n",
        "# t: time vector\n",
        "# V: input voltage\n",
        "# y: output (current)\n",
        "# x: state vector (charge and current)\n",
        "# fig: figure object\n",
        "\n",
        "# Create your simulation here\n",
        "t = np.arange(0, 50, 0.01)\n",
        "V = np.ones_like(t)\n",
        "\n",
        "\"\"\" TODO: WRITE YOUR CODE BELOW \"\"\"\n",
        "\n",
        "\"\"\" END OF TODO \"\"\"\n",
        "\n",
        "# Create your plot here\n",
        "fig, ax = plt.subplots(figsize=(10, 6))\n",
        "\"\"\" TODO: WRITE YOUR CODE BELOW \"\"\"\n",
        "\n",
        "\"\"\" END OF TODO \"\"\"\n",
        "\n",
        "data_q4d = (t, y, x) # NOTE: do not change this line\n",
        "ax_q4d = ax # NOTE: do not change this line\n",
        "\n",
        "# FIXME: Autograder is currently unavailable for this question\n"
      ]
    },
    {
      "cell_type": "markdown",
      "metadata": {
        "id": "qrtA33iWKKG6"
      },
      "source": [
        "## Submission Guidelines\n",
        "\n",
        "Before submitting your work, please follow these steps carefully:\n",
        "\n",
        "1. **Restart and Run All**\n",
        "   - Click: Runtime → Restart sessions and run all\n",
        "   - Make sure all cells execute without errors, and verify that all test cases pass as expected.\n"
      ]
    },
    {
      "cell_type": "code",
      "execution_count": null,
      "metadata": {
        "id": "WFtTsjHbKKG6"
      },
      "outputs": [],
      "source": [
        "# Run this cell to check all your answers\n",
        "grader.check_all()\n"
      ]
    },
    {
      "cell_type": "markdown",
      "metadata": {
        "id": "Uza4eJVhKKG6"
      },
      "source": [
        "2. **Submit Your Files**\n",
        "   - **Jupyter Notebook**:\n",
        "     - File → Download → Download .ipynb\n",
        "     - Rename it to: `<lastname>-<firstname>_CE295_HW0.ipynb`\n",
        "     - Submit to Gradescope under `HW0-ipynb`\n",
        "   - **PDF Version**:\n",
        "     - File → Print (Destination: Save as PDF) **Please check all cells & outputs are displayed clearly**\n",
        "     - Rename it to: `<lastname>-<firstname>_CE295_HW0.pdf`\n",
        "     - Submit to Gradescope under `HW0-pdf` and match pages to each (sub)questions.\n"
      ]
    },
    {
      "cell_type": "markdown",
      "metadata": {
        "id": "9mX8AqrOKKG6"
      },
      "source": [
        "## 🎉 Congratulations!\n",
        "\n",
        "You have completed all the questions in HW 0! We hope that you have learned something new and useful from this assignment and **feel confident for the new semester**! Keep up the good work and we look forward to seeing you in the next assignment soon!\n"
      ]
    }
  ],
  "metadata": {
    "kernelspec": {
      "display_name": "base",
      "language": "python",
      "name": "python3"
    },
    "language_info": {
      "codemirror_mode": {
        "name": "ipython",
        "version": 3
      },
      "file_extension": ".py",
      "mimetype": "text/x-python",
      "name": "python",
      "nbconvert_exporter": "python",
      "pygments_lexer": "ipython3",
      "version": "3.11.5"
    },
    "colab": {
      "provenance": [],
      "toc_visible": true
    }
  },
  "nbformat": 4,
  "nbformat_minor": 0
}