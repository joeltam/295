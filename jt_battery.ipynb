{
  "cells": [
    {
      "cell_type": "code",
      "execution_count": 6,
      "id": "c992b2b8",
      "metadata": {
        "id": "c992b2b8"
      },
      "outputs": [],
      "source": [
        "import pandas as pd\n",
        "import numpy as np\n",
        "import cvxpy as cp\n",
        "import datetime\n",
        "import pytz\n",
        "import os"
      ]
    },
    {
      "cell_type": "code",
      "execution_count": 7,
      "id": "ef87933d",
      "metadata": {
        "colab": {
          "base_uri": "https://localhost:8080/"
        },
        "id": "ef87933d",
        "outputId": "daa4ddff-1bcb-4468-9cbb-4cef0bfe9ec2"
      },
      "outputs": [
        {
          "name": "stderr",
          "output_type": "stream",
          "text": [
            "C:\\Users\\joelt\\AppData\\Local\\Temp\\ipykernel_17636\\2741872308.py:2: FutureWarning: In a future version of pandas, parsing datetimes with mixed time zones will raise an error unless `utc=True`. Please specify `utc=True` to opt in to the new behaviour and silence this warning. To create a `Series` with mixed offsets and `object` dtype, please use `apply` and `datetime.datetime.strptime`\n",
            "  da['Timestamp'] = pd.to_datetime(da['Timestamp'].str.extract(r'(.*?)(?= Los_Angeles)')[0])\n",
            "C:\\Users\\joelt\\AppData\\Local\\Temp\\ipykernel_17636\\2741872308.py:7: FutureWarning: In a future version of pandas, parsing datetimes with mixed time zones will raise an error unless `utc=True`. Please specify `utc=True` to opt in to the new behaviour and silence this warning. To create a `Series` with mixed offsets and `object` dtype, please use `apply` and `datetime.datetime.strptime`\n",
            "  sd['Timestamp'] = pd.to_datetime(sd['Timestamp'].str.extract(r'(.*?)(?= Los_Angeles)')[0])\n"
          ]
        }
      ],
      "source": [
        "da = pd.read_csv('Davis Elec Hourly 1_24.2_25.csv')\n",
        "da['Timestamp'] = pd.to_datetime(da['Timestamp'].str.extract(r'(.*?)(?= Los_Angeles)')[0])\n",
        "da['Demand_kW'] = da.iloc[:,1].str.replace('kW', '').astype(float)\n",
        "da['Usage_kWh'] = da.iloc[:,2].str.replace('kWh', '').astype(float)\n",
        "\n",
        "sd = pd.read_csv('SaturdjaDai elec_hr 1_24-2_25.csv')\n",
        "sd['Timestamp'] = pd.to_datetime(sd['Timestamp'].str.extract(r'(.*?)(?= Los_Angeles)')[0])\n",
        "sd['Demand_kW'] = sd.iloc[:,1].str.replace('kW', '').astype(float)\n",
        "sd['Usage_kWh'] = sd.iloc[:,2].str.replace('kWh', '').astype(float)"
      ]
    },
    {
      "cell_type": "code",
      "execution_count": 8,
      "id": "RI8HuZRgZjUy",
      "metadata": {
        "id": "RI8HuZRgZjUy"
      },
      "outputs": [],
      "source": [
        "# https://www.pge.com/tariffs/assets/pdf/tariffbook/ELEC_SCHEDS_B-20.pdf"
      ]
    },
    {
      "cell_type": "code",
      "execution_count": 9,
      "id": "G48sFQtsJkYy",
      "metadata": {
        "id": "G48sFQtsJkYy"
      },
      "outputs": [],
      "source": [
        "def repeat_dataset_for_years(df, years=15):\n",
        "    df = df.copy()\n",
        "    df['Timestamp'] = pd.to_datetime(df['Timestamp'], utc=True).dt.tz_convert(None)\n",
        "\n",
        "    repeated_dfs = []\n",
        "    original_start = df['Timestamp'].min()\n",
        "\n",
        "    for i in range(years):\n",
        "        df_copy = df.copy()\n",
        "        time_offset = pd.DateOffset(years=i)\n",
        "        df_copy['Timestamp'] = df_copy['Timestamp'] + time_offset\n",
        "        repeated_dfs.append(df_copy)\n",
        "\n",
        "    return pd.concat(repeated_dfs, ignore_index=True)\n"
      ]
    },
    {
      "cell_type": "code",
      "execution_count": 16,
      "id": "0d33229a",
      "metadata": {},
      "outputs": [],
      "source": [
        "def find_break_even_capacity_param(\n",
        "    df, P=0.99, Bd=0.000027, Ci_per_kWh=200,\n",
        "    start_E=0, max_E=15000, step_size=500,\n",
        "    csv_path='battery_cost_results.csv'\n",
        "):\n",
        "    df = df.copy()\n",
        "    df['Timestamp'] = pd.to_datetime(df['Timestamp'], utc=True).dt.tz_convert(None)\n",
        "    df['month'] = df['Timestamp'].dt.month\n",
        "    df['hour'] = df['Timestamp'].dt.hour\n",
        "\n",
        "    # Precompute rate\n",
        "    summer_months = [6, 7, 8, 9]\n",
        "    super_off_peak_months = [3, 4, 5]\n",
        "    super_off_peak_hours = range(9, 14)\n",
        "    summer_peak = range(16, 21)\n",
        "    summer_part_peak = list(range(14, 16)) + list(range(21, 23))\n",
        "    winter_peak = range(16, 21)\n",
        "\n",
        "    def get_rate(row):\n",
        "        hour = row['hour']\n",
        "        month = row['month']\n",
        "        if month in summer_months:\n",
        "            if hour in summer_peak: return 0.20832\n",
        "            elif hour in summer_part_peak: return 0.16020\n",
        "            else: return 0.12220\n",
        "        else:\n",
        "            if month in super_off_peak_months and hour in super_off_peak_hours: return 0.04451\n",
        "            elif hour in winter_peak: return 0.17965\n",
        "            else: return 0.12189\n",
        "\n",
        "    df['rate'] = df.apply(get_rate, axis=1)\n",
        "    df['GridOnlyCost'] = df['Usage_kWh'] * df['rate']\n",
        "    grid_only_cost = df['GridOnlyCost'].sum()\n",
        "\n",
        "    U = df['Usage_kWh'].values\n",
        "    R = df['rate'].values\n",
        "    T = len(U)\n",
        "    df['date'] = df['Timestamp'].dt.date\n",
        "    degradation_mask = (df['date'] != df['date'].shift(1)).astype(float).values\n",
        "\n",
        "    # Variables and parameter\n",
        "    E_param = cp.Parameter(nonneg=True)\n",
        "    B = cp.Variable(T)\n",
        "    D = cp.Variable(T)\n",
        "    C = cp.Variable(T)\n",
        "\n",
        "    constraints = [B[0] == 0]\n",
        "    for t in range(T):\n",
        "        constraints += [\n",
        "            B[t] >= 0,\n",
        "            B[t] <= E_param,\n",
        "            D[t] >= 0,\n",
        "            D[t] <= P * B[t],\n",
        "            C[t] >= 0,\n",
        "            C[t] <= E_param\n",
        "        ]\n",
        "        if t > 0:\n",
        "            constraints.append(B[t] == B[t-1] - D[t-1] / P + C[t-1])\n",
        "\n",
        "    G = U - D + C / P\n",
        "    constraints += [G >= 0]\n",
        "\n",
        "    degradation_cost = Bd * cp.sum(cp.multiply(cp.multiply(degradation_mask, B), R))\n",
        "    install_cost = Ci_per_kWh * cp.power(E_param, 0.75)\n",
        "    battery_cost_expr = cp.sum(cp.multiply(G, R)) + degradation_cost + install_cost\n",
        "\n",
        "    results = []\n",
        "    for e in range(start_E, max_E + 1, step_size):\n",
        "        E_param.value = e\n",
        "        problem = cp.Problem(cp.Minimize(battery_cost_expr), constraints)\n",
        "        problem.solve()\n",
        "        if problem.status == 'optimal':\n",
        "            results.append((e, battery_cost_expr.value))\n",
        "            print(f\"✅ E = {e} kWh, Total Cost = ${battery_cost_expr.value:.2f}\")\n",
        "        else:\n",
        "            results.append((e, np.inf))\n",
        "            print(f\"⚠️ Solver failed at E = {e} kWh\")\n",
        "\n",
        "        # Overwrite the CSV each time\n",
        "        results_df = pd.DataFrame(results, columns=[\"Battery_kWh\", \"Total_Cost\"])\n",
        "        results_df.to_csv(csv_path, index=False)\n",
        "        print(f\"📝 Results saved to: {csv_path}\")\n",
        "\n",
        "    feasible_results = [(e, c) for e, c in results if np.isfinite(c)]\n",
        "    if feasible_results:\n",
        "        best_E, best_cost = min(feasible_results, key=lambda x: x[1])\n",
        "        print(f\"\\n🎯 Best Battery Size: {best_E} kWh\")\n",
        "        print(f\"🔋 Battery Total Cost: ${best_cost:.2f}\")\n",
        "        print(f\"💰 Grid-Only Cost: ${grid_only_cost:.2f}\")\n",
        "        print(f\"📉 Net Savings: ${grid_only_cost - best_cost:.2f}\")\n",
        "        return best_E, best_cost, grid_only_cost, results_df\n",
        "    else:\n",
        "        print(\"❌ No feasible solution found within the tested range.\")\n",
        "        return None, None, grid_only_cost, results_df\n"
      ]
    },
    {
      "cell_type": "code",
      "execution_count": null,
      "id": "7bca7daf",
      "metadata": {},
      "outputs": [
        {
          "name": "stderr",
          "output_type": "stream",
          "text": [
            "c:\\Users\\joelt\\S25\\295venv\\Lib\\site-packages\\cvxpy\\reductions\\solvers\\solving_chain.py:241: UserWarning: You are solving a parameterized problem that is not DPP. Because the problem is not DPP, subsequent solves will not be faster than the first one. For more information, see the documentation on Disciplined Parametrized Programming, at https://www.cvxpy.org/tutorial/dpp/index.html\n",
            "  warnings.warn(DPP_ERROR_MSG)\n"
          ]
        },
        {
          "name": "stdout",
          "output_type": "stream",
          "text": [
            "✅ E = 0 kWh, Total Cost = $1238467.26\n",
            "📝 Results saved to: battery_cost_results.csv\n"
          ]
        }
      ],
      "source": [
        "find_break_even_capacity_param(sd)"
      ]
    },
    {
      "cell_type": "code",
      "execution_count": 15,
      "id": "5516c87d",
      "metadata": {},
      "outputs": [
        {
          "name": "stderr",
          "output_type": "stream",
          "text": [
            "c:\\Users\\joelt\\S25\\295venv\\Lib\\site-packages\\cvxpy\\reductions\\solvers\\solving_chain.py:241: UserWarning: You are solving a parameterized problem that is not DPP. Because the problem is not DPP, subsequent solves will not be faster than the first one. For more information, see the documentation on Disciplined Parametrized Programming, at https://www.cvxpy.org/tutorial/dpp/index.html\n",
            "  warnings.warn(DPP_ERROR_MSG)\n"
          ]
        },
        {
          "name": "stdout",
          "output_type": "stream",
          "text": [
            "✅ E = 0 kWh, Total Cost = $1238467.26\n",
            "\n",
            "📝 Results saved to: battery_cost_results.csv\n",
            "✅ E = 500 kWh, Total Cost = $1242703.57\n",
            "\n",
            "📝 Results saved to: battery_cost_results.csv\n",
            "✅ E = 1000 kWh, Total Cost = $1240210.62\n",
            "\n",
            "📝 Results saved to: battery_cost_results.csv\n"
          ]
        },
        {
          "ename": "KeyboardInterrupt",
          "evalue": "",
          "output_type": "error",
          "traceback": [
            "\u001b[1;31m---------------------------------------------------------------------------\u001b[0m",
            "\u001b[1;31mKeyboardInterrupt\u001b[0m                         Traceback (most recent call last)",
            "Cell \u001b[1;32mIn[15], line 1\u001b[0m\n\u001b[1;32m----> 1\u001b[0m \u001b[43mfind_break_even_capacity_param\u001b[49m\u001b[43m(\u001b[49m\u001b[43msd\u001b[49m\u001b[43m,\u001b[49m\u001b[43m \u001b[49m\u001b[43mBd\u001b[49m\u001b[38;5;241;43m=\u001b[39;49m\u001b[38;5;241;43m0.000027\u001b[39;49m\u001b[43m,\u001b[49m\u001b[43m \u001b[49m\u001b[43mCi_per_kWh\u001b[49m\u001b[38;5;241;43m=\u001b[39;49m\u001b[38;5;241;43m200\u001b[39;49m\u001b[43m,\u001b[49m\u001b[43m \u001b[49m\u001b[43mstart_E\u001b[49m\u001b[38;5;241;43m=\u001b[39;49m\u001b[38;5;241;43m0\u001b[39;49m\u001b[43m,\u001b[49m\u001b[43m \u001b[49m\u001b[43mmax_E\u001b[49m\u001b[38;5;241;43m=\u001b[39;49m\u001b[38;5;241;43m10000\u001b[39;49m\u001b[43m,\u001b[49m\u001b[43m \u001b[49m\u001b[43mstep_size\u001b[49m\u001b[38;5;241;43m=\u001b[39;49m\u001b[38;5;241;43m500\u001b[39;49m\u001b[43m)\u001b[49m\n",
            "Cell \u001b[1;32mIn[14], line 71\u001b[0m, in \u001b[0;36mfind_break_even_capacity_param\u001b[1;34m(df, P, Bd, Ci_per_kWh, start_E, max_E, step_size, csv_path)\u001b[0m\n\u001b[0;32m     69\u001b[0m E_param\u001b[38;5;241m.\u001b[39mvalue \u001b[38;5;241m=\u001b[39m e\n\u001b[0;32m     70\u001b[0m problem \u001b[38;5;241m=\u001b[39m cp\u001b[38;5;241m.\u001b[39mProblem(cp\u001b[38;5;241m.\u001b[39mMinimize(battery_cost_expr), constraints)\n\u001b[1;32m---> 71\u001b[0m \u001b[43mproblem\u001b[49m\u001b[38;5;241;43m.\u001b[39;49m\u001b[43msolve\u001b[49m\u001b[43m(\u001b[49m\u001b[43m)\u001b[49m\n\u001b[0;32m     72\u001b[0m \u001b[38;5;28;01mif\u001b[39;00m problem\u001b[38;5;241m.\u001b[39mstatus \u001b[38;5;241m==\u001b[39m \u001b[38;5;124m'\u001b[39m\u001b[38;5;124moptimal\u001b[39m\u001b[38;5;124m'\u001b[39m:\n\u001b[0;32m     73\u001b[0m     results\u001b[38;5;241m.\u001b[39mappend((e, battery_cost_expr\u001b[38;5;241m.\u001b[39mvalue))\n",
            "File \u001b[1;32mc:\\Users\\joelt\\S25\\295venv\\Lib\\site-packages\\cvxpy\\problems\\problem.py:600\u001b[0m, in \u001b[0;36mProblem.solve\u001b[1;34m(self, *args, **kwargs)\u001b[0m\n\u001b[0;32m    597\u001b[0m         \u001b[38;5;28;01mraise\u001b[39;00m \u001b[38;5;167;01mValueError\u001b[39;00m(\n\u001b[0;32m    598\u001b[0m             \u001b[38;5;124m\"\u001b[39m\u001b[38;5;124mCannot specify both \u001b[39m\u001b[38;5;124m'\u001b[39m\u001b[38;5;124msolver\u001b[39m\u001b[38;5;124m'\u001b[39m\u001b[38;5;124m and \u001b[39m\u001b[38;5;124m'\u001b[39m\u001b[38;5;124msolver_path\u001b[39m\u001b[38;5;124m'\u001b[39m\u001b[38;5;124m. Please choose one.\u001b[39m\u001b[38;5;124m\"\u001b[39m)\n\u001b[0;32m    599\u001b[0m     \u001b[38;5;28;01mreturn\u001b[39;00m \u001b[38;5;28mself\u001b[39m\u001b[38;5;241m.\u001b[39m_solve_solver_path(solve_func,solver_path, args, kwargs)\n\u001b[1;32m--> 600\u001b[0m \u001b[38;5;28;01mreturn\u001b[39;00m \u001b[43msolve_func\u001b[49m\u001b[43m(\u001b[49m\u001b[38;5;28;43mself\u001b[39;49m\u001b[43m,\u001b[49m\u001b[43m \u001b[49m\u001b[38;5;241;43m*\u001b[39;49m\u001b[43margs\u001b[49m\u001b[43m,\u001b[49m\u001b[43m \u001b[49m\u001b[38;5;241;43m*\u001b[39;49m\u001b[38;5;241;43m*\u001b[39;49m\u001b[43mkwargs\u001b[49m\u001b[43m)\u001b[49m\n",
            "File \u001b[1;32mc:\\Users\\joelt\\S25\\295venv\\Lib\\site-packages\\cvxpy\\problems\\problem.py:1170\u001b[0m, in \u001b[0;36mProblem._solve\u001b[1;34m(self, solver, warm_start, verbose, gp, qcp, requires_grad, enforce_dpp, ignore_dpp, canon_backend, **kwargs)\u001b[0m\n\u001b[0;32m   1167\u001b[0m         \u001b[38;5;28mself\u001b[39m\u001b[38;5;241m.\u001b[39munpack(chain\u001b[38;5;241m.\u001b[39mretrieve(soln))\n\u001b[0;32m   1168\u001b[0m         \u001b[38;5;28;01mreturn\u001b[39;00m \u001b[38;5;28mself\u001b[39m\u001b[38;5;241m.\u001b[39mvalue\n\u001b[1;32m-> 1170\u001b[0m data, solving_chain, inverse_data \u001b[38;5;241m=\u001b[39m \u001b[38;5;28;43mself\u001b[39;49m\u001b[38;5;241;43m.\u001b[39;49m\u001b[43mget_problem_data\u001b[49m\u001b[43m(\u001b[49m\n\u001b[0;32m   1171\u001b[0m \u001b[43m    \u001b[49m\u001b[43msolver\u001b[49m\u001b[43m,\u001b[49m\u001b[43m \u001b[49m\u001b[43mgp\u001b[49m\u001b[43m,\u001b[49m\u001b[43m \u001b[49m\u001b[43menforce_dpp\u001b[49m\u001b[43m,\u001b[49m\u001b[43m \u001b[49m\u001b[43mignore_dpp\u001b[49m\u001b[43m,\u001b[49m\u001b[43m \u001b[49m\u001b[43mverbose\u001b[49m\u001b[43m,\u001b[49m\u001b[43m \u001b[49m\u001b[43mcanon_backend\u001b[49m\u001b[43m,\u001b[49m\u001b[43m \u001b[49m\u001b[43mkwargs\u001b[49m\n\u001b[0;32m   1172\u001b[0m \u001b[43m\u001b[49m\u001b[43m)\u001b[49m\n\u001b[0;32m   1174\u001b[0m \u001b[38;5;28;01mif\u001b[39;00m verbose:\n\u001b[0;32m   1175\u001b[0m     \u001b[38;5;28mprint\u001b[39m(_NUM_SOLVER_STR)\n",
            "File \u001b[1;32mc:\\Users\\joelt\\S25\\295venv\\Lib\\site-packages\\cvxpy\\problems\\problem.py:793\u001b[0m, in \u001b[0;36mProblem.get_problem_data\u001b[1;34m(self, solver, gp, enforce_dpp, ignore_dpp, verbose, canon_backend, solver_opts)\u001b[0m\n\u001b[0;32m    790\u001b[0m     s\u001b[38;5;241m.\u001b[39mLOGGER\u001b[38;5;241m.\u001b[39minfo(\n\u001b[0;32m    791\u001b[0m              \u001b[38;5;124m'\u001b[39m\u001b[38;5;124mCompiling problem (target solver=\u001b[39m\u001b[38;5;132;01m%s\u001b[39;00m\u001b[38;5;124m).\u001b[39m\u001b[38;5;124m'\u001b[39m, solver_name)\n\u001b[0;32m    792\u001b[0m     s\u001b[38;5;241m.\u001b[39mLOGGER\u001b[38;5;241m.\u001b[39minfo(\u001b[38;5;124m'\u001b[39m\u001b[38;5;124mReduction chain: \u001b[39m\u001b[38;5;132;01m%s\u001b[39;00m\u001b[38;5;124m'\u001b[39m, reduction_chain_str)\n\u001b[1;32m--> 793\u001b[0m data, inverse_data \u001b[38;5;241m=\u001b[39m \u001b[43msolving_chain\u001b[49m\u001b[38;5;241;43m.\u001b[39;49m\u001b[43mapply\u001b[49m\u001b[43m(\u001b[49m\u001b[38;5;28;43mself\u001b[39;49m\u001b[43m,\u001b[49m\u001b[43m \u001b[49m\u001b[43mverbose\u001b[49m\u001b[43m)\u001b[49m\n\u001b[0;32m    794\u001b[0m safe_to_cache \u001b[38;5;241m=\u001b[39m (\n\u001b[0;32m    795\u001b[0m     \u001b[38;5;28misinstance\u001b[39m(data, \u001b[38;5;28mdict\u001b[39m)\n\u001b[0;32m    796\u001b[0m     \u001b[38;5;129;01mand\u001b[39;00m s\u001b[38;5;241m.\u001b[39mPARAM_PROB \u001b[38;5;129;01min\u001b[39;00m data\n\u001b[0;32m    797\u001b[0m     \u001b[38;5;129;01mand\u001b[39;00m \u001b[38;5;129;01mnot\u001b[39;00m \u001b[38;5;28many\u001b[39m(\u001b[38;5;28misinstance\u001b[39m(reduction, EvalParams)\n\u001b[0;32m    798\u001b[0m                 \u001b[38;5;28;01mfor\u001b[39;00m reduction \u001b[38;5;129;01min\u001b[39;00m solving_chain\u001b[38;5;241m.\u001b[39mreductions)\n\u001b[0;32m    799\u001b[0m )\n\u001b[0;32m    800\u001b[0m \u001b[38;5;28mself\u001b[39m\u001b[38;5;241m.\u001b[39m_compilation_time \u001b[38;5;241m=\u001b[39m time\u001b[38;5;241m.\u001b[39mtime() \u001b[38;5;241m-\u001b[39m start\n",
            "File \u001b[1;32mc:\\Users\\joelt\\S25\\295venv\\Lib\\site-packages\\cvxpy\\reductions\\chain.py:76\u001b[0m, in \u001b[0;36mChain.apply\u001b[1;34m(self, problem, verbose)\u001b[0m\n\u001b[0;32m     74\u001b[0m     \u001b[38;5;28;01mif\u001b[39;00m verbose:\n\u001b[0;32m     75\u001b[0m         s\u001b[38;5;241m.\u001b[39mLOGGER\u001b[38;5;241m.\u001b[39minfo(\u001b[38;5;124m'\u001b[39m\u001b[38;5;124mApplying reduction \u001b[39m\u001b[38;5;132;01m%s\u001b[39;00m\u001b[38;5;124m'\u001b[39m, \u001b[38;5;28mtype\u001b[39m(r)\u001b[38;5;241m.\u001b[39m\u001b[38;5;18m__name__\u001b[39m)\n\u001b[1;32m---> 76\u001b[0m     problem, inv \u001b[38;5;241m=\u001b[39m \u001b[43mr\u001b[49m\u001b[38;5;241;43m.\u001b[39;49m\u001b[43mapply\u001b[49m\u001b[43m(\u001b[49m\u001b[43mproblem\u001b[49m\u001b[43m)\u001b[49m\n\u001b[0;32m     77\u001b[0m     inverse_data\u001b[38;5;241m.\u001b[39mappend(inv)\n\u001b[0;32m     78\u001b[0m \u001b[38;5;28;01mreturn\u001b[39;00m problem, inverse_data\n",
            "File \u001b[1;32mc:\\Users\\joelt\\S25\\295venv\\Lib\\site-packages\\cvxpy\\reductions\\dcp2cone\\cone_matrix_stuffing.py:386\u001b[0m, in \u001b[0;36mConeMatrixStuffing.apply\u001b[1;34m(self, problem)\u001b[0m\n\u001b[0;32m    384\u001b[0m \u001b[38;5;66;03m# Batch expressions together, then split apart.\u001b[39;00m\n\u001b[0;32m    385\u001b[0m expr_list \u001b[38;5;241m=\u001b[39m [arg \u001b[38;5;28;01mfor\u001b[39;00m c \u001b[38;5;129;01min\u001b[39;00m ordered_cons \u001b[38;5;28;01mfor\u001b[39;00m arg \u001b[38;5;129;01min\u001b[39;00m c\u001b[38;5;241m.\u001b[39margs]\n\u001b[1;32m--> 386\u001b[0m params_to_problem_data \u001b[38;5;241m=\u001b[39m \u001b[43mextractor\u001b[49m\u001b[38;5;241;43m.\u001b[39;49m\u001b[43maffine\u001b[49m\u001b[43m(\u001b[49m\u001b[43mexpr_list\u001b[49m\u001b[43m)\u001b[49m\n\u001b[0;32m    388\u001b[0m inverse_data\u001b[38;5;241m.\u001b[39mminimize \u001b[38;5;241m=\u001b[39m \u001b[38;5;28mtype\u001b[39m(problem\u001b[38;5;241m.\u001b[39mobjective) \u001b[38;5;241m==\u001b[39m Minimize\n\u001b[0;32m    389\u001b[0m variables \u001b[38;5;241m=\u001b[39m problem\u001b[38;5;241m.\u001b[39mvariables()\n",
            "File \u001b[1;32mc:\\Users\\joelt\\S25\\295venv\\Lib\\site-packages\\cvxpy\\utilities\\coeff_extractor.py:72\u001b[0m, in \u001b[0;36mCoeffExtractor.affine\u001b[1;34m(self, expr)\u001b[0m\n\u001b[0;32m     70\u001b[0m num_rows \u001b[38;5;241m=\u001b[39m \u001b[38;5;28msum\u001b[39m([e\u001b[38;5;241m.\u001b[39msize \u001b[38;5;28;01mfor\u001b[39;00m e \u001b[38;5;129;01min\u001b[39;00m expr_list])\n\u001b[0;32m     71\u001b[0m op_list \u001b[38;5;241m=\u001b[39m [e\u001b[38;5;241m.\u001b[39mcanonical_form[\u001b[38;5;241m0\u001b[39m] \u001b[38;5;28;01mfor\u001b[39;00m e \u001b[38;5;129;01min\u001b[39;00m expr_list]\n\u001b[1;32m---> 72\u001b[0m \u001b[38;5;28;01mreturn\u001b[39;00m \u001b[43mcanonInterface\u001b[49m\u001b[38;5;241;43m.\u001b[39;49m\u001b[43mget_problem_matrix\u001b[49m\u001b[43m(\u001b[49m\u001b[43mop_list\u001b[49m\u001b[43m,\u001b[49m\n\u001b[0;32m     73\u001b[0m \u001b[43m                                         \u001b[49m\u001b[38;5;28;43mself\u001b[39;49m\u001b[38;5;241;43m.\u001b[39;49m\u001b[43mx_length\u001b[49m\u001b[43m,\u001b[49m\n\u001b[0;32m     74\u001b[0m \u001b[43m                                         \u001b[49m\u001b[38;5;28;43mself\u001b[39;49m\u001b[38;5;241;43m.\u001b[39;49m\u001b[43mid_map\u001b[49m\u001b[43m,\u001b[49m\n\u001b[0;32m     75\u001b[0m \u001b[43m                                         \u001b[49m\u001b[38;5;28;43mself\u001b[39;49m\u001b[38;5;241;43m.\u001b[39;49m\u001b[43mparam_to_size\u001b[49m\u001b[43m,\u001b[49m\n\u001b[0;32m     76\u001b[0m \u001b[43m                                         \u001b[49m\u001b[38;5;28;43mself\u001b[39;49m\u001b[38;5;241;43m.\u001b[39;49m\u001b[43mparam_id_map\u001b[49m\u001b[43m,\u001b[49m\n\u001b[0;32m     77\u001b[0m \u001b[43m                                         \u001b[49m\u001b[43mnum_rows\u001b[49m\u001b[43m,\u001b[49m\n\u001b[0;32m     78\u001b[0m \u001b[43m                                         \u001b[49m\u001b[38;5;28;43mself\u001b[39;49m\u001b[38;5;241;43m.\u001b[39;49m\u001b[43mcanon_backend\u001b[49m\u001b[43m)\u001b[49m\n",
            "File \u001b[1;32mc:\\Users\\joelt\\S25\\295venv\\Lib\\site-packages\\cvxpy\\cvxcore\\python\\canonInterface.py:297\u001b[0m, in \u001b[0;36mget_problem_matrix\u001b[1;34m(linOps, var_length, id_to_col, param_to_size, param_to_col, constr_length, canon_backend)\u001b[0m\n\u001b[0;32m    295\u001b[0m \u001b[38;5;28;01mif\u001b[39;00m canon_backend \u001b[38;5;241m==\u001b[39m s\u001b[38;5;241m.\u001b[39mCPP_CANON_BACKEND:\n\u001b[0;32m    296\u001b[0m     \u001b[38;5;28;01mfrom\u001b[39;00m\u001b[38;5;250m \u001b[39m\u001b[38;5;21;01mcvxpy\u001b[39;00m\u001b[38;5;21;01m.\u001b[39;00m\u001b[38;5;21;01mcvxcore\u001b[39;00m\u001b[38;5;21;01m.\u001b[39;00m\u001b[38;5;21;01mpython\u001b[39;00m\u001b[38;5;21;01m.\u001b[39;00m\u001b[38;5;21;01mcppbackend\u001b[39;00m\u001b[38;5;250m \u001b[39m\u001b[38;5;28;01mimport\u001b[39;00m build_matrix\n\u001b[1;32m--> 297\u001b[0m     \u001b[38;5;28;01mreturn\u001b[39;00m \u001b[43mbuild_matrix\u001b[49m\u001b[43m(\u001b[49m\u001b[43mid_to_col\u001b[49m\u001b[43m,\u001b[49m\u001b[43m \u001b[49m\u001b[43mparam_to_size\u001b[49m\u001b[43m,\u001b[49m\u001b[43m \u001b[49m\u001b[43mparam_to_col\u001b[49m\u001b[43m,\u001b[49m\u001b[43m \u001b[49m\u001b[43mvar_length\u001b[49m\u001b[43m,\u001b[49m\u001b[43m \u001b[49m\u001b[43mconstr_length\u001b[49m\u001b[43m,\u001b[49m\u001b[43m \u001b[49m\u001b[43mlinOps\u001b[49m\u001b[43m)\u001b[49m\n\u001b[0;32m    299\u001b[0m \u001b[38;5;28;01melif\u001b[39;00m canon_backend \u001b[38;5;129;01min\u001b[39;00m {s\u001b[38;5;241m.\u001b[39mSCIPY_CANON_BACKEND, s\u001b[38;5;241m.\u001b[39mRUST_CANON_BACKEND,\n\u001b[0;32m    300\u001b[0m                        s\u001b[38;5;241m.\u001b[39mNUMPY_CANON_BACKEND}:\n\u001b[0;32m    301\u001b[0m     param_size_plus_one \u001b[38;5;241m=\u001b[39m \u001b[38;5;28msum\u001b[39m(param_to_size\u001b[38;5;241m.\u001b[39mvalues())\n",
            "File \u001b[1;32mc:\\Users\\joelt\\S25\\295venv\\Lib\\site-packages\\cvxpy\\cvxcore\\python\\cppbackend.py:93\u001b[0m, in \u001b[0;36mbuild_matrix\u001b[1;34m(id_to_col, param_to_size, param_to_col, var_length, constr_length, linOps)\u001b[0m\n\u001b[0;32m     91\u001b[0m         V\u001b[38;5;241m.\u001b[39mappend(tensor_V[param_id][i])\n\u001b[0;32m     92\u001b[0m         I\u001b[38;5;241m.\u001b[39mappend(tensor_I[param_id][i] \u001b[38;5;241m+\u001b[39m tensor_J[param_id][i] \u001b[38;5;241m*\u001b[39m constr_length)\n\u001b[1;32m---> 93\u001b[0m         J\u001b[38;5;241m.\u001b[39mappend(tensor_J[param_id][i] \u001b[38;5;241m*\u001b[39m \u001b[38;5;241m0\u001b[39m \u001b[38;5;241m+\u001b[39m (i \u001b[38;5;241m+\u001b[39m col))\n\u001b[0;32m     94\u001b[0m V \u001b[38;5;241m=\u001b[39m np\u001b[38;5;241m.\u001b[39mconcatenate(V)\n\u001b[0;32m     95\u001b[0m I \u001b[38;5;241m=\u001b[39m np\u001b[38;5;241m.\u001b[39mconcatenate(I)\n",
            "\u001b[1;31mKeyboardInterrupt\u001b[0m: "
          ]
        }
      ],
      "source": [
        "find_break_even_capacity_param(sd, Bd=0.000027, Ci_per_kWh=200, start_E=0, max_E=10000, step_size=500)"
      ]
    },
    {
      "cell_type": "code",
      "execution_count": null,
      "id": "877537df",
      "metadata": {},
      "outputs": [],
      "source": []
    }
  ],
  "metadata": {
    "colab": {
      "provenance": []
    },
    "kernelspec": {
      "display_name": "295venv",
      "language": "python",
      "name": "python3"
    },
    "language_info": {
      "codemirror_mode": {
        "name": "ipython",
        "version": 3
      },
      "file_extension": ".py",
      "mimetype": "text/x-python",
      "name": "python",
      "nbconvert_exporter": "python",
      "pygments_lexer": "ipython3",
      "version": "3.12.10"
    }
  },
  "nbformat": 4,
  "nbformat_minor": 5
}
