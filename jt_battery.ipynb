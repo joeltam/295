{
  "cells": [
    {
      "cell_type": "code",
      "execution_count": 3,
      "id": "c992b2b8",
      "metadata": {
        "id": "c992b2b8"
      },
      "outputs": [],
      "source": [
        "import pandas as pd\n",
        "import numpy as np\n",
        "import matplotlib.pyplot as plt\n",
        "import cvxpy as cp"
      ]
    },
    {
      "cell_type": "code",
      "execution_count": 4,
      "id": "ef87933d",
      "metadata": {
        "colab": {
          "base_uri": "https://localhost:8080/"
        },
        "id": "ef87933d",
        "outputId": "daa4ddff-1bcb-4468-9cbb-4cef0bfe9ec2"
      },
      "outputs": [
        {
          "name": "stderr",
          "output_type": "stream",
          "text": [
            "/var/folders/yl/_fjnz6h53yv8g0p40zrwgxsc0000gn/T/ipykernel_32419/2741872308.py:2: FutureWarning: In a future version of pandas, parsing datetimes with mixed time zones will raise an error unless `utc=True`. Please specify `utc=True` to opt in to the new behaviour and silence this warning. To create a `Series` with mixed offsets and `object` dtype, please use `apply` and `datetime.datetime.strptime`\n",
            "  da['Timestamp'] = pd.to_datetime(da['Timestamp'].str.extract(r'(.*?)(?= Los_Angeles)')[0])\n",
            "/var/folders/yl/_fjnz6h53yv8g0p40zrwgxsc0000gn/T/ipykernel_32419/2741872308.py:7: FutureWarning: In a future version of pandas, parsing datetimes with mixed time zones will raise an error unless `utc=True`. Please specify `utc=True` to opt in to the new behaviour and silence this warning. To create a `Series` with mixed offsets and `object` dtype, please use `apply` and `datetime.datetime.strptime`\n",
            "  sd['Timestamp'] = pd.to_datetime(sd['Timestamp'].str.extract(r'(.*?)(?= Los_Angeles)')[0])\n"
          ]
        }
      ],
      "source": [
        "da = pd.read_csv('Davis Elec Hourly 1_24.2_25.csv')\n",
        "da['Timestamp'] = pd.to_datetime(da['Timestamp'].str.extract(r'(.*?)(?= Los_Angeles)')[0])\n",
        "da['Demand_kW'] = da.iloc[:,1].str.replace('kW', '').astype(float)\n",
        "da['Usage_kWh'] = da.iloc[:,2].str.replace('kWh', '').astype(float)\n",
        "\n",
        "sd = pd.read_csv('SaturdjaDai elec_hr 1_24-2_25.csv')\n",
        "sd['Timestamp'] = pd.to_datetime(sd['Timestamp'].str.extract(r'(.*?)(?= Los_Angeles)')[0])\n",
        "sd['Demand_kW'] = sd.iloc[:,1].str.replace('kW', '').astype(float)\n",
        "sd['Usage_kWh'] = sd.iloc[:,2].str.replace('kWh', '').astype(float)"
      ]
    },
    {
      "cell_type": "code",
      "execution_count": 5,
      "id": "RI8HuZRgZjUy",
      "metadata": {
        "id": "RI8HuZRgZjUy"
      },
      "outputs": [],
      "source": [
        "# https://www.pge.com/tariffs/assets/pdf/tariffbook/ELEC_SCHEDS_B-20.pdf"
      ]
    },
    {
      "cell_type": "code",
      "execution_count": 6,
      "id": "G48sFQtsJkYy",
      "metadata": {
        "id": "G48sFQtsJkYy"
      },
      "outputs": [],
      "source": [
        "def repeat_dataset_for_years(df, years=15):\n",
        "    df = df.copy()\n",
        "    df['Timestamp'] = pd.to_datetime(df['Timestamp'], utc=True).dt.tz_convert(None)\n",
        "\n",
        "    repeated_dfs = []\n",
        "    original_start = df['Timestamp'].min()\n",
        "\n",
        "    for i in range(years):\n",
        "        df_copy = df.copy()\n",
        "        time_offset = pd.DateOffset(years=i)\n",
        "        df_copy['Timestamp'] = df_copy['Timestamp'] + time_offset\n",
        "        repeated_dfs.append(df_copy)\n",
        "\n",
        "    return pd.concat(repeated_dfs, ignore_index=True)\n"
      ]
    },
    {
      "cell_type": "code",
      "execution_count": 7,
      "id": "3a07badd",
      "metadata": {},
      "outputs": [],
      "source": [
        "def find_break_even_capacity_param(\n",
        "    df, P=0.99, Bd=0.000027, Ci_per_kWh=300,\n",
        "    start_E=7500, max_E=15000, step_size=500,\n",
        "    csv_path='battery_cost_results.csv'\n",
        "):\n",
        "    df = df.copy()\n",
        "    df['Timestamp'] = pd.to_datetime(df['Timestamp'], utc=True).dt.tz_convert(None)\n",
        "    df['month'] = df['Timestamp'].dt.month\n",
        "    df['hour'] = df['Timestamp'].dt.hour\n",
        "\n",
        "    # Precompute rate\n",
        "    summer_months = [6, 7, 8, 9]\n",
        "    super_off_peak_months = [3, 4, 5]\n",
        "    super_off_peak_hours = range(9, 14)\n",
        "    summer_peak = range(16, 21)\n",
        "    summer_part_peak = list(range(14, 16)) + list(range(21, 23))\n",
        "    winter_peak = range(16, 21)\n",
        "\n",
        "    def get_rate(row):\n",
        "        hour = row['hour']\n",
        "        month = row['month']\n",
        "        if month in summer_months:\n",
        "            if hour in summer_peak: return 0.20832\n",
        "            elif hour in summer_part_peak: return 0.16020\n",
        "            else: return 0.12220\n",
        "        else:\n",
        "            if month in super_off_peak_months and hour in super_off_peak_hours: return 0.04451\n",
        "            elif hour in winter_peak: return 0.17965\n",
        "            else: return 0.12189\n",
        "\n",
        "    df['rate'] = df.apply(get_rate, axis=1)\n",
        "    df['GridOnlyCost'] = df['Usage_kWh'] * df['rate']\n",
        "    grid_only_cost = df['GridOnlyCost'].sum()\n",
        "\n",
        "    U = df['Usage_kWh'].values\n",
        "    R = df['rate'].values\n",
        "    T = len(U)\n",
        "    df['date'] = df['Timestamp'].dt.date\n",
        "    degradation_mask = (df['date'] != df['date'].shift(1)).astype(float).values\n",
        "\n",
        "    # --- Define Variables and Parameter ---\n",
        "    E_param = cp.Parameter(nonneg=True)\n",
        "    B = cp.Variable(T)\n",
        "    D = cp.Variable(T)\n",
        "    C = cp.Variable(T)\n",
        "\n",
        "    constraints = [B[0] == 0]\n",
        "    for t in range(T):\n",
        "        constraints += [\n",
        "            B[t] >= 0,\n",
        "            B[t] <= E_param,\n",
        "            D[t] >= 0,\n",
        "            D[t] <= P * B[t],\n",
        "            C[t] >= 0,\n",
        "            C[t] <= E_param\n",
        "        ]\n",
        "        if t > 0:\n",
        "            constraints.append(B[t] == B[t-1] - D[t-1] / P + C[t-1])\n",
        "\n",
        "    G = U - D + C / P\n",
        "    constraints += [G >= 0]\n",
        "\n",
        "    degradation_cost = Bd * cp.sum(cp.multiply(cp.multiply(degradation_mask, B), R))\n",
        "    install_cost = Ci_per_kWh * cp.power(E_param, 0.75)\n",
        "    battery_cost_expr = cp.sum(cp.multiply(G, R)) + degradation_cost + install_cost\n",
        "\n",
        "    results = []\n",
        "    for e in range(start_E, max_E + 1, step_size):\n",
        "        E_param.value = e\n",
        "        problem = cp.Problem(cp.Minimize(battery_cost_expr), constraints)\n",
        "        problem.solve()\n",
        "        if problem.status == 'optimal':\n",
        "            results.append((e, battery_cost_expr.value))\n",
        "            print(f\"✅ E = {e} kWh, Total Cost = ${battery_cost_expr.value:.2f}\")\n",
        "        else:\n",
        "            results.append((e, np.inf))\n",
        "            print(f\"⚠️ Solver failed at E = {e} kWh\")\n",
        "\n",
        "    # Convert to DataFrame and write to CSV\n",
        "    results_df = pd.DataFrame(results, columns=[\"Battery_kWh\", \"Total_Cost\"])\n",
        "    results_df.to_csv(csv_path, index=False)\n",
        "    print(f\"\\n📝 Results saved to: {csv_path}\")\n",
        "\n",
        "    # Find best result\n",
        "    feasible_results = [(e, c) for e, c in results if np.isfinite(c)]\n",
        "    if feasible_results:\n",
        "        best_E, best_cost = min(feasible_results, key=lambda x: x[1])\n",
        "        print(f\"\\n🎯 Best Battery Size: {best_E} kWh\")\n",
        "        print(f\"🔋 Battery Total Cost: ${best_cost:.2f}\")\n",
        "        print(f\"💰 Grid-Only Cost: ${grid_only_cost:.2f}\")\n",
        "        print(f\"📉 Net Savings: ${grid_only_cost - best_cost:.2f}\")\n",
        "        return best_E, best_cost, grid_only_cost, results_df\n",
        "    else:\n",
        "        print(\"❌ No feasible solution found within the tested range.\")\n",
        "        return None, None, grid_only_cost, results_df"
      ]
    },
    {
      "cell_type": "code",
      "execution_count": null,
      "id": "cb197b1a",
      "metadata": {},
      "outputs": [
        {
          "name": "stderr",
          "output_type": "stream",
          "text": [
            "/Users/joelt/S25/venv3.9/lib/python3.9/site-packages/cvxpy/reductions/solvers/solving_chain.py:241: UserWarning: You are solving a parameterized problem that is not DPP. Because the problem is not DPP, subsequent solves will not be faster than the first one. For more information, see the documentation on Disciplined Parametrized Programming, at https://www.cvxpy.org/tutorial/dpp/index.html\n",
            "  warnings.warn(DPP_ERROR_MSG)\n"
          ]
        }
      ],
      "source": [
        "find_break_even_capacity_param(repeat_dataset_for_years(sd, years=3))"
      ]
    }
  ],
  "metadata": {
    "colab": {
      "provenance": []
    },
    "kernelspec": {
      "display_name": "venv3.9",
      "language": "python",
      "name": "python3"
    },
    "language_info": {
      "codemirror_mode": {
        "name": "ipython",
        "version": 3
      },
      "file_extension": ".py",
      "mimetype": "text/x-python",
      "name": "python",
      "nbconvert_exporter": "python",
      "pygments_lexer": "ipython3",
      "version": "3.9.20"
    }
  },
  "nbformat": 4,
  "nbformat_minor": 5
}
